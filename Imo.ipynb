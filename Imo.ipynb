{
 "cells": [
  {
   "cell_type": "code",
   "execution_count": 50,
   "id": "9e3c9dd5",
   "metadata": {},
   "outputs": [],
   "source": [
    "import pandas as pd\n",
    "import time\n",
    "from sqlalchemy import create_engine\n",
    "import pymysql\n",
    "import matplotlib.pyplot as plt\n",
    "import seaborn as sns\n",
    "import plotly.express as px"
   ]
  },
  {
   "cell_type": "markdown",
   "id": "7692cd10-16c3-413c-b107-e56745e6633c",
   "metadata": {},
   "source": [
    "Import de la base de donnée"
   ]
  },
  {
   "cell_type": "code",
   "execution_count": 2,
   "id": "246a3930-2dd2-4000-9e10-dfcfc256a845",
   "metadata": {},
   "outputs": [
    {
     "name": "stderr",
     "output_type": "stream",
     "text": [
      "C:\\Users\\Utilisateur\\AppData\\Local\\Temp\\ipykernel_14020\\1976359511.py:8: DtypeWarning: Columns (8,13,14,15) have mixed types. Specify dtype option on import or set low_memory=False.\n",
      "  df = pd.read_csv('transac_immo_good.csv')\n"
     ]
    },
    {
     "data": {
      "text/html": [
       "<div>\n",
       "<style scoped>\n",
       "    .dataframe tbody tr th:only-of-type {\n",
       "        vertical-align: middle;\n",
       "    }\n",
       "\n",
       "    .dataframe tbody tr th {\n",
       "        vertical-align: top;\n",
       "    }\n",
       "\n",
       "    .dataframe thead th {\n",
       "        text-align: right;\n",
       "    }\n",
       "</style>\n",
       "<table border=\"1\" class=\"dataframe\">\n",
       "  <thead>\n",
       "    <tr style=\"text-align: right;\">\n",
       "      <th></th>\n",
       "      <th>Transaction_unique</th>\n",
       "      <th>Type_vente</th>\n",
       "      <th>ID_Bien</th>\n",
       "      <th>Date</th>\n",
       "      <th>Valeur_fonciere</th>\n",
       "      <th>Type_local</th>\n",
       "      <th>Nombre_pieces_principales</th>\n",
       "      <th>Adresse</th>\n",
       "      <th>Code_postal</th>\n",
       "      <th>Commune</th>\n",
       "      <th>...</th>\n",
       "      <th>3eme_lot</th>\n",
       "      <th>4eme_lot</th>\n",
       "      <th>5eme_lot</th>\n",
       "      <th>Carrez_1er_lot</th>\n",
       "      <th>Carrez_2eme_lot</th>\n",
       "      <th>Carrez_3eme_lot</th>\n",
       "      <th>Carrez_4eme_lot</th>\n",
       "      <th>Carrez_5eme_lot</th>\n",
       "      <th>Surface_reelle_batiment</th>\n",
       "      <th>Surface_terrain</th>\n",
       "    </tr>\n",
       "  </thead>\n",
       "  <tbody>\n",
       "    <tr>\n",
       "      <th>0</th>\n",
       "      <td>1</td>\n",
       "      <td>Vente</td>\n",
       "      <td>M_1</td>\n",
       "      <td>13/12/2022</td>\n",
       "      <td>221000,00</td>\n",
       "      <td>Maison</td>\n",
       "      <td>4.0</td>\n",
       "      <td>5040.0  CLOS CITADELLE</td>\n",
       "      <td>1379</td>\n",
       "      <td>SAINT-MAURICE-DE-REMENS</td>\n",
       "      <td>...</td>\n",
       "      <td>NaN</td>\n",
       "      <td>NaN</td>\n",
       "      <td>NaN</td>\n",
       "      <td>NaN</td>\n",
       "      <td>NaN</td>\n",
       "      <td>NaN</td>\n",
       "      <td>NaN</td>\n",
       "      <td>NaN</td>\n",
       "      <td>105.0</td>\n",
       "      <td>134.0</td>\n",
       "    </tr>\n",
       "    <tr>\n",
       "      <th>1</th>\n",
       "      <td>2</td>\n",
       "      <td>Vente</td>\n",
       "      <td>M_2</td>\n",
       "      <td>13/09/2022</td>\n",
       "      <td>143000,00</td>\n",
       "      <td>Maison</td>\n",
       "      <td>3.0</td>\n",
       "      <td>379.0  BOUCLE DE SULIGNAT</td>\n",
       "      <td>1025</td>\n",
       "      <td>BAGE-DOMMARTIN</td>\n",
       "      <td>...</td>\n",
       "      <td>NaN</td>\n",
       "      <td>NaN</td>\n",
       "      <td>NaN</td>\n",
       "      <td>NaN</td>\n",
       "      <td>NaN</td>\n",
       "      <td>NaN</td>\n",
       "      <td>NaN</td>\n",
       "      <td>NaN</td>\n",
       "      <td>70.0</td>\n",
       "      <td>871.0</td>\n",
       "    </tr>\n",
       "    <tr>\n",
       "      <th>2</th>\n",
       "      <td>3</td>\n",
       "      <td>Vente</td>\n",
       "      <td>M_3</td>\n",
       "      <td>14/04/2022</td>\n",
       "      <td>76000,00</td>\n",
       "      <td>Maison</td>\n",
       "      <td>1.0</td>\n",
       "      <td>5137.0  GENEVRAY</td>\n",
       "      <td>1185</td>\n",
       "      <td>PLATEAU D'HAUTEVILLE</td>\n",
       "      <td>...</td>\n",
       "      <td>NaN</td>\n",
       "      <td>NaN</td>\n",
       "      <td>NaN</td>\n",
       "      <td>NaN</td>\n",
       "      <td>NaN</td>\n",
       "      <td>NaN</td>\n",
       "      <td>NaN</td>\n",
       "      <td>NaN</td>\n",
       "      <td>30.0</td>\n",
       "      <td>26.0</td>\n",
       "    </tr>\n",
       "    <tr>\n",
       "      <th>3</th>\n",
       "      <td>4</td>\n",
       "      <td>Vente</td>\n",
       "      <td>M_4</td>\n",
       "      <td>01/08/2022</td>\n",
       "      <td>250000,00</td>\n",
       "      <td>Maison</td>\n",
       "      <td>6.0</td>\n",
       "      <td>2.0  LES GRANGES TEILLIERES</td>\n",
       "      <td>1185</td>\n",
       "      <td>PLATEAU D'HAUTEVILLE</td>\n",
       "      <td>...</td>\n",
       "      <td>NaN</td>\n",
       "      <td>NaN</td>\n",
       "      <td>NaN</td>\n",
       "      <td>NaN</td>\n",
       "      <td>NaN</td>\n",
       "      <td>NaN</td>\n",
       "      <td>NaN</td>\n",
       "      <td>NaN</td>\n",
       "      <td>150.0</td>\n",
       "      <td>886.0</td>\n",
       "    </tr>\n",
       "    <tr>\n",
       "      <th>4</th>\n",
       "      <td>5</td>\n",
       "      <td>Vente</td>\n",
       "      <td>M_5</td>\n",
       "      <td>06/07/2022</td>\n",
       "      <td>60000,00</td>\n",
       "      <td>Maison</td>\n",
       "      <td>5.0</td>\n",
       "      <td>5271.0  LES MILLIERES</td>\n",
       "      <td>1025</td>\n",
       "      <td>BAGE-DOMMARTIN</td>\n",
       "      <td>...</td>\n",
       "      <td>NaN</td>\n",
       "      <td>NaN</td>\n",
       "      <td>NaN</td>\n",
       "      <td>NaN</td>\n",
       "      <td>NaN</td>\n",
       "      <td>NaN</td>\n",
       "      <td>NaN</td>\n",
       "      <td>NaN</td>\n",
       "      <td>132.0</td>\n",
       "      <td>NaN</td>\n",
       "    </tr>\n",
       "    <tr>\n",
       "      <th>...</th>\n",
       "      <td>...</td>\n",
       "      <td>...</td>\n",
       "      <td>...</td>\n",
       "      <td>...</td>\n",
       "      <td>...</td>\n",
       "      <td>...</td>\n",
       "      <td>...</td>\n",
       "      <td>...</td>\n",
       "      <td>...</td>\n",
       "      <td>...</td>\n",
       "      <td>...</td>\n",
       "      <td>...</td>\n",
       "      <td>...</td>\n",
       "      <td>...</td>\n",
       "      <td>...</td>\n",
       "      <td>...</td>\n",
       "      <td>...</td>\n",
       "      <td>...</td>\n",
       "      <td>...</td>\n",
       "      <td>...</td>\n",
       "      <td>...</td>\n",
       "    </tr>\n",
       "    <tr>\n",
       "      <th>1471820</th>\n",
       "      <td>1471821</td>\n",
       "      <td>Vente</td>\n",
       "      <td>M_747942</td>\n",
       "      <td>16/09/2022</td>\n",
       "      <td>170000,00</td>\n",
       "      <td>Maison</td>\n",
       "      <td>5.0</td>\n",
       "      <td>22.0 RUE DES ALAMANDAS</td>\n",
       "      <td>974019</td>\n",
       "      <td>SAINTE ROSE</td>\n",
       "      <td>...</td>\n",
       "      <td>NaN</td>\n",
       "      <td>NaN</td>\n",
       "      <td>NaN</td>\n",
       "      <td>NaN</td>\n",
       "      <td>NaN</td>\n",
       "      <td>NaN</td>\n",
       "      <td>NaN</td>\n",
       "      <td>NaN</td>\n",
       "      <td>145.0</td>\n",
       "      <td>351.0</td>\n",
       "    </tr>\n",
       "    <tr>\n",
       "      <th>1471821</th>\n",
       "      <td>1471822</td>\n",
       "      <td>Vente</td>\n",
       "      <td>M_747943</td>\n",
       "      <td>11/05/2022</td>\n",
       "      <td>15000,00</td>\n",
       "      <td>Maison</td>\n",
       "      <td>3.0</td>\n",
       "      <td>12.0 RLE 46</td>\n",
       "      <td>974013</td>\n",
       "      <td>SAINT-LEU</td>\n",
       "      <td>...</td>\n",
       "      <td>NaN</td>\n",
       "      <td>NaN</td>\n",
       "      <td>NaN</td>\n",
       "      <td>NaN</td>\n",
       "      <td>NaN</td>\n",
       "      <td>NaN</td>\n",
       "      <td>NaN</td>\n",
       "      <td>NaN</td>\n",
       "      <td>54.0</td>\n",
       "      <td>444.0</td>\n",
       "    </tr>\n",
       "    <tr>\n",
       "      <th>1471822</th>\n",
       "      <td>1471823</td>\n",
       "      <td>Vente</td>\n",
       "      <td>M_747944</td>\n",
       "      <td>11/05/2022</td>\n",
       "      <td>15000,00</td>\n",
       "      <td>Maison</td>\n",
       "      <td>4.0</td>\n",
       "      <td>12.0 RLE 46</td>\n",
       "      <td>974013</td>\n",
       "      <td>SAINT-LEU</td>\n",
       "      <td>...</td>\n",
       "      <td>NaN</td>\n",
       "      <td>NaN</td>\n",
       "      <td>NaN</td>\n",
       "      <td>NaN</td>\n",
       "      <td>NaN</td>\n",
       "      <td>NaN</td>\n",
       "      <td>NaN</td>\n",
       "      <td>NaN</td>\n",
       "      <td>72.0</td>\n",
       "      <td>444.0</td>\n",
       "    </tr>\n",
       "    <tr>\n",
       "      <th>1471823</th>\n",
       "      <td>1471824</td>\n",
       "      <td>Vente</td>\n",
       "      <td>M_747945</td>\n",
       "      <td>11/05/2022</td>\n",
       "      <td>15000,00</td>\n",
       "      <td>Maison</td>\n",
       "      <td>2.0</td>\n",
       "      <td>12.0 RLE 46</td>\n",
       "      <td>974013</td>\n",
       "      <td>SAINT-LEU</td>\n",
       "      <td>...</td>\n",
       "      <td>NaN</td>\n",
       "      <td>NaN</td>\n",
       "      <td>NaN</td>\n",
       "      <td>NaN</td>\n",
       "      <td>NaN</td>\n",
       "      <td>NaN</td>\n",
       "      <td>NaN</td>\n",
       "      <td>NaN</td>\n",
       "      <td>30.0</td>\n",
       "      <td>444.0</td>\n",
       "    </tr>\n",
       "    <tr>\n",
       "      <th>1471824</th>\n",
       "      <td>1471825</td>\n",
       "      <td>Vente</td>\n",
       "      <td>M_747946</td>\n",
       "      <td>12/07/2022</td>\n",
       "      <td>350000,00</td>\n",
       "      <td>Maison</td>\n",
       "      <td>4.0</td>\n",
       "      <td>60.0 ALL DES COCOS</td>\n",
       "      <td>974010</td>\n",
       "      <td>SAINT-BENOIT</td>\n",
       "      <td>...</td>\n",
       "      <td>NaN</td>\n",
       "      <td>NaN</td>\n",
       "      <td>NaN</td>\n",
       "      <td>NaN</td>\n",
       "      <td>NaN</td>\n",
       "      <td>NaN</td>\n",
       "      <td>NaN</td>\n",
       "      <td>NaN</td>\n",
       "      <td>87.0</td>\n",
       "      <td>538.0</td>\n",
       "    </tr>\n",
       "  </tbody>\n",
       "</table>\n",
       "<p>1471825 rows × 25 columns</p>\n",
       "</div>"
      ],
      "text/plain": [
       "         Transaction_unique Type_vente   ID_Bien        Date Valeur_fonciere  \\\n",
       "0                         1      Vente       M_1  13/12/2022       221000,00   \n",
       "1                         2      Vente       M_2  13/09/2022       143000,00   \n",
       "2                         3      Vente       M_3  14/04/2022        76000,00   \n",
       "3                         4      Vente       M_4  01/08/2022       250000,00   \n",
       "4                         5      Vente       M_5  06/07/2022        60000,00   \n",
       "...                     ...        ...       ...         ...             ...   \n",
       "1471820             1471821      Vente  M_747942  16/09/2022       170000,00   \n",
       "1471821             1471822      Vente  M_747943  11/05/2022        15000,00   \n",
       "1471822             1471823      Vente  M_747944  11/05/2022        15000,00   \n",
       "1471823             1471824      Vente  M_747945  11/05/2022        15000,00   \n",
       "1471824             1471825      Vente  M_747946  12/07/2022       350000,00   \n",
       "\n",
       "        Type_local  Nombre_pieces_principales                      Adresse  \\\n",
       "0           Maison                        4.0       5040.0  CLOS CITADELLE   \n",
       "1           Maison                        3.0    379.0  BOUCLE DE SULIGNAT   \n",
       "2           Maison                        1.0             5137.0  GENEVRAY   \n",
       "3           Maison                        6.0  2.0  LES GRANGES TEILLIERES   \n",
       "4           Maison                        5.0        5271.0  LES MILLIERES   \n",
       "...            ...                        ...                          ...   \n",
       "1471820     Maison                        5.0       22.0 RUE DES ALAMANDAS   \n",
       "1471821     Maison                        3.0                  12.0 RLE 46   \n",
       "1471822     Maison                        4.0                  12.0 RLE 46   \n",
       "1471823     Maison                        2.0                  12.0 RLE 46   \n",
       "1471824     Maison                        4.0           60.0 ALL DES COCOS   \n",
       "\n",
       "        Code_postal                  Commune  ... 3eme_lot 4eme_lot  5eme_lot  \\\n",
       "0              1379  SAINT-MAURICE-DE-REMENS  ...      NaN      NaN       NaN   \n",
       "1              1025           BAGE-DOMMARTIN  ...      NaN      NaN       NaN   \n",
       "2              1185     PLATEAU D'HAUTEVILLE  ...      NaN      NaN       NaN   \n",
       "3              1185     PLATEAU D'HAUTEVILLE  ...      NaN      NaN       NaN   \n",
       "4              1025           BAGE-DOMMARTIN  ...      NaN      NaN       NaN   \n",
       "...             ...                      ...  ...      ...      ...       ...   \n",
       "1471820      974019              SAINTE ROSE  ...      NaN      NaN       NaN   \n",
       "1471821      974013                SAINT-LEU  ...      NaN      NaN       NaN   \n",
       "1471822      974013                SAINT-LEU  ...      NaN      NaN       NaN   \n",
       "1471823      974013                SAINT-LEU  ...      NaN      NaN       NaN   \n",
       "1471824      974010             SAINT-BENOIT  ...      NaN      NaN       NaN   \n",
       "\n",
       "        Carrez_1er_lot Carrez_2eme_lot Carrez_3eme_lot  Carrez_4eme_lot  \\\n",
       "0                  NaN             NaN             NaN              NaN   \n",
       "1                  NaN             NaN             NaN              NaN   \n",
       "2                  NaN             NaN             NaN              NaN   \n",
       "3                  NaN             NaN             NaN              NaN   \n",
       "4                  NaN             NaN             NaN              NaN   \n",
       "...                ...             ...             ...              ...   \n",
       "1471820            NaN             NaN             NaN              NaN   \n",
       "1471821            NaN             NaN             NaN              NaN   \n",
       "1471822            NaN             NaN             NaN              NaN   \n",
       "1471823            NaN             NaN             NaN              NaN   \n",
       "1471824            NaN             NaN             NaN              NaN   \n",
       "\n",
       "         Carrez_5eme_lot Surface_reelle_batiment Surface_terrain  \n",
       "0                    NaN                   105.0           134.0  \n",
       "1                    NaN                    70.0           871.0  \n",
       "2                    NaN                    30.0            26.0  \n",
       "3                    NaN                   150.0           886.0  \n",
       "4                    NaN                   132.0             NaN  \n",
       "...                  ...                     ...             ...  \n",
       "1471820              NaN                   145.0           351.0  \n",
       "1471821              NaN                    54.0           444.0  \n",
       "1471822              NaN                    72.0           444.0  \n",
       "1471823              NaN                    30.0           444.0  \n",
       "1471824              NaN                    87.0           538.0  \n",
       "\n",
       "[1471825 rows x 25 columns]"
      ]
     },
     "execution_count": 2,
     "metadata": {},
     "output_type": "execute_result"
    }
   ],
   "source": [
    "host = 'localhost' \n",
    "user = 'root' \n",
    "password = 'root'  \n",
    "database = 'immobilier'\n",
    "\n",
    "conn = pymysql.connect(host=host, user=user, password=password, database=database)\n",
    "engine = create_engine(f'mysql+pymysql://{user}:{password}@{host}/{database}')\n",
    "df = pd.read_csv('transac_immo_good.csv')\n",
    "df"
   ]
  },
  {
   "cell_type": "markdown",
   "id": "70410d8b-0151-46ef-8af2-0e420e018636",
   "metadata": {},
   "source": [
    "Création des différents DataFrame"
   ]
  },
  {
   "cell_type": "code",
   "execution_count": 3,
   "id": "7e33a0dd-2105-4e80-8975-36d6930ada2d",
   "metadata": {},
   "outputs": [
    {
     "name": "stderr",
     "output_type": "stream",
     "text": [
      "C:\\Users\\Utilisateur\\AppData\\Local\\Temp\\ipykernel_14020\\3748736808.py:5: SettingWithCopyWarning: \n",
      "A value is trying to be set on a copy of a slice from a DataFrame.\n",
      "Try using .loc[row_indexer,col_indexer] = value instead\n",
      "\n",
      "See the caveats in the documentation: https://pandas.pydata.org/pandas-docs/stable/user_guide/indexing.html#returning-a-view-versus-a-copy\n",
      "  df_localisations['ID_Bienisation'] = range(1, len(df) + 1)\n"
     ]
    },
    {
     "data": {
      "text/html": [
       "<div>\n",
       "<style scoped>\n",
       "    .dataframe tbody tr th:only-of-type {\n",
       "        vertical-align: middle;\n",
       "    }\n",
       "\n",
       "    .dataframe tbody tr th {\n",
       "        vertical-align: top;\n",
       "    }\n",
       "\n",
       "    .dataframe thead th {\n",
       "        text-align: right;\n",
       "    }\n",
       "</style>\n",
       "<table border=\"1\" class=\"dataframe\">\n",
       "  <thead>\n",
       "    <tr style=\"text-align: right;\">\n",
       "      <th></th>\n",
       "      <th>ID_Bienisation</th>\n",
       "      <th>Adresse</th>\n",
       "      <th>Code_postal</th>\n",
       "      <th>Commune</th>\n",
       "      <th>Département</th>\n",
       "      <th>Regions</th>\n",
       "    </tr>\n",
       "  </thead>\n",
       "  <tbody>\n",
       "    <tr>\n",
       "      <th>0</th>\n",
       "      <td>1</td>\n",
       "      <td>5040.0  CLOS CITADELLE</td>\n",
       "      <td>1379</td>\n",
       "      <td>SAINT-MAURICE-DE-REMENS</td>\n",
       "      <td>Ain</td>\n",
       "      <td>Auvergne-Rhône-Alpes</td>\n",
       "    </tr>\n",
       "    <tr>\n",
       "      <th>1</th>\n",
       "      <td>2</td>\n",
       "      <td>379.0  BOUCLE DE SULIGNAT</td>\n",
       "      <td>1025</td>\n",
       "      <td>BAGE-DOMMARTIN</td>\n",
       "      <td>Ain</td>\n",
       "      <td>Auvergne-Rhône-Alpes</td>\n",
       "    </tr>\n",
       "    <tr>\n",
       "      <th>2</th>\n",
       "      <td>3</td>\n",
       "      <td>5137.0  GENEVRAY</td>\n",
       "      <td>1185</td>\n",
       "      <td>PLATEAU D'HAUTEVILLE</td>\n",
       "      <td>Ain</td>\n",
       "      <td>Auvergne-Rhône-Alpes</td>\n",
       "    </tr>\n",
       "    <tr>\n",
       "      <th>3</th>\n",
       "      <td>4</td>\n",
       "      <td>2.0  LES GRANGES TEILLIERES</td>\n",
       "      <td>1185</td>\n",
       "      <td>PLATEAU D'HAUTEVILLE</td>\n",
       "      <td>Ain</td>\n",
       "      <td>Auvergne-Rhône-Alpes</td>\n",
       "    </tr>\n",
       "    <tr>\n",
       "      <th>4</th>\n",
       "      <td>5</td>\n",
       "      <td>5271.0  LES MILLIERES</td>\n",
       "      <td>1025</td>\n",
       "      <td>BAGE-DOMMARTIN</td>\n",
       "      <td>Ain</td>\n",
       "      <td>Auvergne-Rhône-Alpes</td>\n",
       "    </tr>\n",
       "    <tr>\n",
       "      <th>...</th>\n",
       "      <td>...</td>\n",
       "      <td>...</td>\n",
       "      <td>...</td>\n",
       "      <td>...</td>\n",
       "      <td>...</td>\n",
       "      <td>...</td>\n",
       "    </tr>\n",
       "    <tr>\n",
       "      <th>1471820</th>\n",
       "      <td>1471821</td>\n",
       "      <td>22.0 RUE DES ALAMANDAS</td>\n",
       "      <td>974019</td>\n",
       "      <td>SAINTE ROSE</td>\n",
       "      <td>La Réunion</td>\n",
       "      <td>La Réunion</td>\n",
       "    </tr>\n",
       "    <tr>\n",
       "      <th>1471821</th>\n",
       "      <td>1471822</td>\n",
       "      <td>12.0 RLE 46</td>\n",
       "      <td>974013</td>\n",
       "      <td>SAINT-LEU</td>\n",
       "      <td>La Réunion</td>\n",
       "      <td>La Réunion</td>\n",
       "    </tr>\n",
       "    <tr>\n",
       "      <th>1471822</th>\n",
       "      <td>1471823</td>\n",
       "      <td>12.0 RLE 46</td>\n",
       "      <td>974013</td>\n",
       "      <td>SAINT-LEU</td>\n",
       "      <td>La Réunion</td>\n",
       "      <td>La Réunion</td>\n",
       "    </tr>\n",
       "    <tr>\n",
       "      <th>1471823</th>\n",
       "      <td>1471824</td>\n",
       "      <td>12.0 RLE 46</td>\n",
       "      <td>974013</td>\n",
       "      <td>SAINT-LEU</td>\n",
       "      <td>La Réunion</td>\n",
       "      <td>La Réunion</td>\n",
       "    </tr>\n",
       "    <tr>\n",
       "      <th>1471824</th>\n",
       "      <td>1471825</td>\n",
       "      <td>60.0 ALL DES COCOS</td>\n",
       "      <td>974010</td>\n",
       "      <td>SAINT-BENOIT</td>\n",
       "      <td>La Réunion</td>\n",
       "      <td>La Réunion</td>\n",
       "    </tr>\n",
       "  </tbody>\n",
       "</table>\n",
       "<p>1471825 rows × 6 columns</p>\n",
       "</div>"
      ],
      "text/plain": [
       "         ID_Bienisation                      Adresse Code_postal  \\\n",
       "0                     1       5040.0  CLOS CITADELLE        1379   \n",
       "1                     2    379.0  BOUCLE DE SULIGNAT        1025   \n",
       "2                     3             5137.0  GENEVRAY        1185   \n",
       "3                     4  2.0  LES GRANGES TEILLIERES        1185   \n",
       "4                     5        5271.0  LES MILLIERES        1025   \n",
       "...                 ...                          ...         ...   \n",
       "1471820         1471821       22.0 RUE DES ALAMANDAS      974019   \n",
       "1471821         1471822                  12.0 RLE 46      974013   \n",
       "1471822         1471823                  12.0 RLE 46      974013   \n",
       "1471823         1471824                  12.0 RLE 46      974013   \n",
       "1471824         1471825           60.0 ALL DES COCOS      974010   \n",
       "\n",
       "                         Commune Département               Regions  \n",
       "0        SAINT-MAURICE-DE-REMENS         Ain  Auvergne-Rhône-Alpes  \n",
       "1                 BAGE-DOMMARTIN         Ain  Auvergne-Rhône-Alpes  \n",
       "2           PLATEAU D'HAUTEVILLE         Ain  Auvergne-Rhône-Alpes  \n",
       "3           PLATEAU D'HAUTEVILLE         Ain  Auvergne-Rhône-Alpes  \n",
       "4                 BAGE-DOMMARTIN         Ain  Auvergne-Rhône-Alpes  \n",
       "...                          ...         ...                   ...  \n",
       "1471820              SAINTE ROSE  La Réunion            La Réunion  \n",
       "1471821                SAINT-LEU  La Réunion            La Réunion  \n",
       "1471822                SAINT-LEU  La Réunion            La Réunion  \n",
       "1471823                SAINT-LEU  La Réunion            La Réunion  \n",
       "1471824             SAINT-BENOIT  La Réunion            La Réunion  \n",
       "\n",
       "[1471825 rows x 6 columns]"
      ]
     },
     "execution_count": 3,
     "metadata": {},
     "output_type": "execute_result"
    }
   ],
   "source": [
    "colonnes_selectionnees = [\"Adresse\", \"Code_postal\", \"Commune\", \"Département\", \"Regions\"]\n",
    "\n",
    "df_localisations = df[colonnes_selectionnees]\n",
    "\n",
    "df_localisations['ID_Bienisation'] = range(1, len(df) + 1)\n",
    "\n",
    "ID_Bienisation = df_localisations.pop('ID_Bienisation')\n",
    "df_localisations.insert(0, 'ID_Bienisation', ID_Bienisation)\n",
    "df_localisations"
   ]
  },
  {
   "cell_type": "code",
   "execution_count": 4,
   "id": "aacaca01-bd0d-45fb-b542-9b02fff626aa",
   "metadata": {},
   "outputs": [],
   "source": [
    "df_ventes = df[['Transaction_unique', 'Type_vente', 'ID_Bien', 'Date', 'Valeur_fonciere']]\n",
    "df_biens = df[['ID_Bien', 'Type_local', 'Surface_reelle_batiment', 'Nombre_pieces_principales', 'Surface_terrain', 'Nombre_lots']]\n",
    "df_lots = df[['1er_lot', '2eme_lot', '3eme_lot', '4eme_lot', '5eme_lot', 'Carrez_1er_lot', 'Carrez_2eme_lot', 'Carrez_3eme_lot', 'Carrez_4eme_lot', 'Carrez_5eme_lot']]\n",
    "df_localisations.insert(6, 'ID_Bien', df[['ID_Bien']])"
   ]
  },
  {
   "cell_type": "markdown",
   "id": "86d2e532-9cef-42e2-9c49-9686ede33466",
   "metadata": {},
   "source": [
    "Import des DataFrame vers MySQL"
   ]
  },
  {
   "cell_type": "code",
   "execution_count": 38,
   "id": "8272b156-3d4d-4fa6-a430-3cb3f1693f5b",
   "metadata": {},
   "outputs": [
    {
     "data": {
      "text/plain": [
       "1471825"
      ]
     },
     "execution_count": 38,
     "metadata": {},
     "output_type": "execute_result"
    }
   ],
   "source": [
    "#df_ventes.to_sql('ventes', con=engine, if_exists='replace', index=False)"
   ]
  },
  {
   "cell_type": "code",
   "execution_count": 5,
   "id": "eeeefc91-d36b-4975-bbe1-8cee2a652f1d",
   "metadata": {},
   "outputs": [
    {
     "data": {
      "text/plain": [
       "1471825"
      ]
     },
     "execution_count": 5,
     "metadata": {},
     "output_type": "execute_result"
    }
   ],
   "source": [
    "#df_biens.to_sql('biens_1', con=engine, if_exists='replace', index=False)"
   ]
  },
  {
   "cell_type": "code",
   "execution_count": 6,
   "id": "4b06e706-e93f-4f9b-a2f0-98494ba2661e",
   "metadata": {},
   "outputs": [
    {
     "data": {
      "text/plain": [
       "1471825"
      ]
     },
     "execution_count": 6,
     "metadata": {},
     "output_type": "execute_result"
    }
   ],
   "source": [
    "#df_lots.to_sql('lots', con=engine, if_exists='replace', index=False)"
   ]
  },
  {
   "cell_type": "code",
   "execution_count": 5,
   "id": "217988fc-9def-4798-b7a6-7867ba7f7f27",
   "metadata": {},
   "outputs": [
    {
     "data": {
      "text/plain": [
       "1471825"
      ]
     },
     "execution_count": 5,
     "metadata": {},
     "output_type": "execute_result"
    }
   ],
   "source": [
    "#df_localisations.to_sql('localisations_1', con=engine, if_exists='replace', index=False)"
   ]
  },
  {
   "cell_type": "markdown",
   "id": "70e061d0-4efe-45bc-8b0d-16deaf5c01de",
   "metadata": {},
   "source": [
    "Requêtes SQL"
   ]
  },
  {
   "cell_type": "markdown",
   "id": "609d83f2-7682-407b-a831-4b1e2299115e",
   "metadata": {},
   "source": [
    "1/ Nombre d’appartements et Maisons vendus en 2022"
   ]
  },
  {
   "cell_type": "code",
   "execution_count": 6,
   "id": "614ad771-342d-4e4c-9cf1-f972c305841d",
   "metadata": {},
   "outputs": [
    {
     "name": "stderr",
     "output_type": "stream",
     "text": [
      "C:\\Users\\Utilisateur\\AppData\\Local\\Temp\\ipykernel_14020\\987527720.py:10: UserWarning: pandas only supports SQLAlchemy connectable (engine/connection) or database string URI or sqlite3 DBAPI2 connection. Other DBAPI2 objects are not tested. Please consider using SQLAlchemy.\n",
      "  df_nombres = pd.read_sql(query_nombres, conn)\n"
     ]
    },
    {
     "data": {
      "text/html": [
       "<div>\n",
       "<style scoped>\n",
       "    .dataframe tbody tr th:only-of-type {\n",
       "        vertical-align: middle;\n",
       "    }\n",
       "\n",
       "    .dataframe tbody tr th {\n",
       "        vertical-align: top;\n",
       "    }\n",
       "\n",
       "    .dataframe thead th {\n",
       "        text-align: right;\n",
       "    }\n",
       "</style>\n",
       "<table border=\"1\" class=\"dataframe\">\n",
       "  <thead>\n",
       "    <tr style=\"text-align: right;\">\n",
       "      <th></th>\n",
       "      <th>nb_maisons_appart</th>\n",
       "      <th>Type_Local</th>\n",
       "    </tr>\n",
       "  </thead>\n",
       "  <tbody>\n",
       "    <tr>\n",
       "      <th>0</th>\n",
       "      <td>744942</td>\n",
       "      <td>Maison</td>\n",
       "    </tr>\n",
       "    <tr>\n",
       "      <th>1</th>\n",
       "      <td>585515</td>\n",
       "      <td>Appartement</td>\n",
       "    </tr>\n",
       "  </tbody>\n",
       "</table>\n",
       "</div>"
      ],
      "text/plain": [
       "   nb_maisons_appart   Type_Local\n",
       "0             744942       Maison\n",
       "1             585515  Appartement"
      ]
     },
     "execution_count": 6,
     "metadata": {},
     "output_type": "execute_result"
    }
   ],
   "source": [
    "query_nombres = \"\"\"\n",
    "SELECT count(*) as nb_maisons_appart, Type_Local\n",
    "FROM biens_1\n",
    "LEFT JOIN ventes \n",
    "ON biens_1.ID_Bien = ventes.ID_Bien\n",
    "WHERE Type_local LIKE '%Appartement%' OR Type_local LIKE '%Maison%' AND Type_vente LIKE '%Vente%'\n",
    "GROUP BY Type_local\n",
    "\"\"\"\n",
    "\n",
    "df_nombres = pd.read_sql(query_nombres, conn)\n",
    "df_nombres"
   ]
  },
  {
   "cell_type": "markdown",
   "id": "7aad9bd2-709b-4e53-a04f-da810fd38448",
   "metadata": {},
   "source": [
    "2/ Nombre de biens vendus par trimestre"
   ]
  },
  {
   "cell_type": "code",
   "execution_count": 7,
   "id": "1f9e1722-3ca8-471f-bae4-0a0cea0db8fb",
   "metadata": {},
   "outputs": [
    {
     "name": "stderr",
     "output_type": "stream",
     "text": [
      "C:\\Users\\Utilisateur\\AppData\\Local\\Temp\\ipykernel_14020\\1338424266.py:8: UserWarning: pandas only supports SQLAlchemy connectable (engine/connection) or database string URI or sqlite3 DBAPI2 connection. Other DBAPI2 objects are not tested. Please consider using SQLAlchemy.\n",
      "  df_trimestres = pd.read_sql(query_trimestres, conn)\n"
     ]
    },
    {
     "data": {
      "text/html": [
       "<div>\n",
       "<style scoped>\n",
       "    .dataframe tbody tr th:only-of-type {\n",
       "        vertical-align: middle;\n",
       "    }\n",
       "\n",
       "    .dataframe tbody tr th {\n",
       "        vertical-align: top;\n",
       "    }\n",
       "\n",
       "    .dataframe thead th {\n",
       "        text-align: right;\n",
       "    }\n",
       "</style>\n",
       "<table border=\"1\" class=\"dataframe\">\n",
       "  <thead>\n",
       "    <tr style=\"text-align: right;\">\n",
       "      <th></th>\n",
       "      <th>Trimestre</th>\n",
       "      <th>Nombre_de_biens_vendus</th>\n",
       "    </tr>\n",
       "  </thead>\n",
       "  <tbody>\n",
       "    <tr>\n",
       "      <th>0</th>\n",
       "      <td>1</td>\n",
       "      <td>341413</td>\n",
       "    </tr>\n",
       "    <tr>\n",
       "      <th>1</th>\n",
       "      <td>2</td>\n",
       "      <td>386302</td>\n",
       "    </tr>\n",
       "    <tr>\n",
       "      <th>2</th>\n",
       "      <td>3</td>\n",
       "      <td>395501</td>\n",
       "    </tr>\n",
       "    <tr>\n",
       "      <th>3</th>\n",
       "      <td>4</td>\n",
       "      <td>348609</td>\n",
       "    </tr>\n",
       "  </tbody>\n",
       "</table>\n",
       "</div>"
      ],
      "text/plain": [
       "   Trimestre  Nombre_de_biens_vendus\n",
       "0          1                  341413\n",
       "1          2                  386302\n",
       "2          3                  395501\n",
       "3          4                  348609"
      ]
     },
     "execution_count": 7,
     "metadata": {},
     "output_type": "execute_result"
    }
   ],
   "source": [
    "query_trimestres = \"\"\"\n",
    "SELECT QUARTER(STR_TO_DATE(Date, '%d/%m/%Y')) AS Trimestre, COUNT(*) AS Nombre_de_biens_vendus\n",
    "FROM ventes\n",
    "GROUP BY Trimestre\n",
    "ORDER BY Trimestre;\n",
    "\"\"\"\n",
    "\n",
    "df_trimestres = pd.read_sql(query_trimestres, conn)\n",
    "df_trimestres"
   ]
  },
  {
   "cell_type": "markdown",
   "id": "e184a33d-5ccf-4289-8ba9-9ff59ed4d3c8",
   "metadata": {},
   "source": [
    "3/ Proportion des ventes de biens par trimestre"
   ]
  },
  {
   "cell_type": "code",
   "execution_count": 8,
   "id": "e23aac23-a396-4434-9b14-24a42146ff56",
   "metadata": {},
   "outputs": [
    {
     "name": "stderr",
     "output_type": "stream",
     "text": [
      "C:\\Users\\Utilisateur\\AppData\\Local\\Temp\\ipykernel_14020\\2822606654.py:8: UserWarning: pandas only supports SQLAlchemy connectable (engine/connection) or database string URI or sqlite3 DBAPI2 connection. Other DBAPI2 objects are not tested. Please consider using SQLAlchemy.\n",
      "  df_trimestres_proportion = pd.read_sql(query_trimestres_proportion, conn)\n"
     ]
    },
    {
     "data": {
      "text/html": [
       "<div>\n",
       "<style scoped>\n",
       "    .dataframe tbody tr th:only-of-type {\n",
       "        vertical-align: middle;\n",
       "    }\n",
       "\n",
       "    .dataframe tbody tr th {\n",
       "        vertical-align: top;\n",
       "    }\n",
       "\n",
       "    .dataframe thead th {\n",
       "        text-align: right;\n",
       "    }\n",
       "</style>\n",
       "<table border=\"1\" class=\"dataframe\">\n",
       "  <thead>\n",
       "    <tr style=\"text-align: right;\">\n",
       "      <th></th>\n",
       "      <th>Trimestre</th>\n",
       "      <th>Proportions_de_biens_vendus</th>\n",
       "    </tr>\n",
       "  </thead>\n",
       "  <tbody>\n",
       "    <tr>\n",
       "      <th>0</th>\n",
       "      <td>1</td>\n",
       "      <td>23.1966</td>\n",
       "    </tr>\n",
       "    <tr>\n",
       "      <th>1</th>\n",
       "      <td>2</td>\n",
       "      <td>26.2465</td>\n",
       "    </tr>\n",
       "    <tr>\n",
       "      <th>2</th>\n",
       "      <td>3</td>\n",
       "      <td>26.8715</td>\n",
       "    </tr>\n",
       "    <tr>\n",
       "      <th>3</th>\n",
       "      <td>4</td>\n",
       "      <td>23.6855</td>\n",
       "    </tr>\n",
       "  </tbody>\n",
       "</table>\n",
       "</div>"
      ],
      "text/plain": [
       "   Trimestre  Proportions_de_biens_vendus\n",
       "0          1                      23.1966\n",
       "1          2                      26.2465\n",
       "2          3                      26.8715\n",
       "3          4                      23.6855"
      ]
     },
     "execution_count": 8,
     "metadata": {},
     "output_type": "execute_result"
    }
   ],
   "source": [
    "query_trimestres_proportion = \"\"\"\n",
    "SELECT QUARTER(STR_TO_DATE(Date, '%d/%m/%Y')) AS Trimestre, COUNT(*) / (SELECT COUNT(*) FROM ventes) * 100 AS Proportions_de_biens_vendus\n",
    "FROM ventes\n",
    "GROUP BY Trimestre\n",
    "  \"\"\"\n",
    "\n",
    "df_trimestres_proportion = pd.read_sql(query_trimestres_proportion, conn)\n",
    "df_trimestres_proportion"
   ]
  },
  {
   "cell_type": "markdown",
   "id": "d2441462-f260-4034-a3af-a0bd528640de",
   "metadata": {},
   "source": [
    "4/ Proportion d’appartements vendus par nombre de pièces"
   ]
  },
  {
   "cell_type": "code",
   "execution_count": 9,
   "id": "2eca8568-e19b-467d-956a-22c93cd37f67",
   "metadata": {},
   "outputs": [
    {
     "name": "stderr",
     "output_type": "stream",
     "text": [
      "C:\\Users\\Utilisateur\\AppData\\Local\\Temp\\ipykernel_14020\\4247347405.py:8: UserWarning: pandas only supports SQLAlchemy connectable (engine/connection) or database string URI or sqlite3 DBAPI2 connection. Other DBAPI2 objects are not tested. Please consider using SQLAlchemy.\n",
      "  df_proportion_A = pd.read_sql(query_proportion_A, conn)\n"
     ]
    },
    {
     "data": {
      "text/html": [
       "<div>\n",
       "<style scoped>\n",
       "    .dataframe tbody tr th:only-of-type {\n",
       "        vertical-align: middle;\n",
       "    }\n",
       "\n",
       "    .dataframe tbody tr th {\n",
       "        vertical-align: top;\n",
       "    }\n",
       "\n",
       "    .dataframe thead th {\n",
       "        text-align: right;\n",
       "    }\n",
       "</style>\n",
       "<table border=\"1\" class=\"dataframe\">\n",
       "  <thead>\n",
       "    <tr style=\"text-align: right;\">\n",
       "      <th></th>\n",
       "      <th>Proportions</th>\n",
       "      <th>Nombre_pieces_principales</th>\n",
       "    </tr>\n",
       "  </thead>\n",
       "  <tbody>\n",
       "    <tr>\n",
       "      <th>0</th>\n",
       "      <td>3.9359</td>\n",
       "      <td>5.0</td>\n",
       "    </tr>\n",
       "    <tr>\n",
       "      <th>1</th>\n",
       "      <td>29.9309</td>\n",
       "      <td>3.0</td>\n",
       "    </tr>\n",
       "    <tr>\n",
       "      <th>2</th>\n",
       "      <td>15.5190</td>\n",
       "      <td>4.0</td>\n",
       "    </tr>\n",
       "    <tr>\n",
       "      <th>3</th>\n",
       "      <td>18.6461</td>\n",
       "      <td>1.0</td>\n",
       "    </tr>\n",
       "    <tr>\n",
       "      <th>4</th>\n",
       "      <td>30.6310</td>\n",
       "      <td>2.0</td>\n",
       "    </tr>\n",
       "    <tr>\n",
       "      <th>5</th>\n",
       "      <td>0.1944</td>\n",
       "      <td>7.0</td>\n",
       "    </tr>\n",
       "    <tr>\n",
       "      <th>6</th>\n",
       "      <td>0.7667</td>\n",
       "      <td>6.0</td>\n",
       "    </tr>\n",
       "    <tr>\n",
       "      <th>7</th>\n",
       "      <td>0.2422</td>\n",
       "      <td>0.0</td>\n",
       "    </tr>\n",
       "    <tr>\n",
       "      <th>8</th>\n",
       "      <td>0.0722</td>\n",
       "      <td>8.0</td>\n",
       "    </tr>\n",
       "    <tr>\n",
       "      <th>9</th>\n",
       "      <td>0.0125</td>\n",
       "      <td>10.0</td>\n",
       "    </tr>\n",
       "    <tr>\n",
       "      <th>10</th>\n",
       "      <td>0.0261</td>\n",
       "      <td>9.0</td>\n",
       "    </tr>\n",
       "    <tr>\n",
       "      <th>11</th>\n",
       "      <td>0.0003</td>\n",
       "      <td>16.0</td>\n",
       "    </tr>\n",
       "    <tr>\n",
       "      <th>12</th>\n",
       "      <td>0.0067</td>\n",
       "      <td>11.0</td>\n",
       "    </tr>\n",
       "    <tr>\n",
       "      <th>13</th>\n",
       "      <td>0.0014</td>\n",
       "      <td>14.0</td>\n",
       "    </tr>\n",
       "    <tr>\n",
       "      <th>14</th>\n",
       "      <td>0.0002</td>\n",
       "      <td>25.0</td>\n",
       "    </tr>\n",
       "    <tr>\n",
       "      <th>15</th>\n",
       "      <td>0.0039</td>\n",
       "      <td>12.0</td>\n",
       "    </tr>\n",
       "    <tr>\n",
       "      <th>16</th>\n",
       "      <td>0.0039</td>\n",
       "      <td>NaN</td>\n",
       "    </tr>\n",
       "    <tr>\n",
       "      <th>17</th>\n",
       "      <td>0.0002</td>\n",
       "      <td>36.0</td>\n",
       "    </tr>\n",
       "    <tr>\n",
       "      <th>18</th>\n",
       "      <td>0.0020</td>\n",
       "      <td>13.0</td>\n",
       "    </tr>\n",
       "    <tr>\n",
       "      <th>19</th>\n",
       "      <td>0.0002</td>\n",
       "      <td>63.0</td>\n",
       "    </tr>\n",
       "    <tr>\n",
       "      <th>20</th>\n",
       "      <td>0.0002</td>\n",
       "      <td>19.0</td>\n",
       "    </tr>\n",
       "    <tr>\n",
       "      <th>21</th>\n",
       "      <td>0.0002</td>\n",
       "      <td>21.0</td>\n",
       "    </tr>\n",
       "    <tr>\n",
       "      <th>22</th>\n",
       "      <td>0.0005</td>\n",
       "      <td>22.0</td>\n",
       "    </tr>\n",
       "    <tr>\n",
       "      <th>23</th>\n",
       "      <td>0.0003</td>\n",
       "      <td>32.0</td>\n",
       "    </tr>\n",
       "    <tr>\n",
       "      <th>24</th>\n",
       "      <td>0.0002</td>\n",
       "      <td>90.0</td>\n",
       "    </tr>\n",
       "    <tr>\n",
       "      <th>25</th>\n",
       "      <td>0.0005</td>\n",
       "      <td>20.0</td>\n",
       "    </tr>\n",
       "    <tr>\n",
       "      <th>26</th>\n",
       "      <td>0.0002</td>\n",
       "      <td>43.0</td>\n",
       "    </tr>\n",
       "    <tr>\n",
       "      <th>27</th>\n",
       "      <td>0.0002</td>\n",
       "      <td>37.0</td>\n",
       "    </tr>\n",
       "    <tr>\n",
       "      <th>28</th>\n",
       "      <td>0.0002</td>\n",
       "      <td>17.0</td>\n",
       "    </tr>\n",
       "    <tr>\n",
       "      <th>29</th>\n",
       "      <td>0.0005</td>\n",
       "      <td>15.0</td>\n",
       "    </tr>\n",
       "    <tr>\n",
       "      <th>30</th>\n",
       "      <td>0.0002</td>\n",
       "      <td>34.0</td>\n",
       "    </tr>\n",
       "    <tr>\n",
       "      <th>31</th>\n",
       "      <td>0.0003</td>\n",
       "      <td>30.0</td>\n",
       "    </tr>\n",
       "    <tr>\n",
       "      <th>32</th>\n",
       "      <td>0.0002</td>\n",
       "      <td>24.0</td>\n",
       "    </tr>\n",
       "    <tr>\n",
       "      <th>33</th>\n",
       "      <td>0.0002</td>\n",
       "      <td>50.0</td>\n",
       "    </tr>\n",
       "    <tr>\n",
       "      <th>34</th>\n",
       "      <td>0.0002</td>\n",
       "      <td>78.0</td>\n",
       "    </tr>\n",
       "    <tr>\n",
       "      <th>35</th>\n",
       "      <td>0.0002</td>\n",
       "      <td>27.0</td>\n",
       "    </tr>\n",
       "    <tr>\n",
       "      <th>36</th>\n",
       "      <td>0.0002</td>\n",
       "      <td>41.0</td>\n",
       "    </tr>\n",
       "  </tbody>\n",
       "</table>\n",
       "</div>"
      ],
      "text/plain": [
       "    Proportions  Nombre_pieces_principales\n",
       "0        3.9359                        5.0\n",
       "1       29.9309                        3.0\n",
       "2       15.5190                        4.0\n",
       "3       18.6461                        1.0\n",
       "4       30.6310                        2.0\n",
       "5        0.1944                        7.0\n",
       "6        0.7667                        6.0\n",
       "7        0.2422                        0.0\n",
       "8        0.0722                        8.0\n",
       "9        0.0125                       10.0\n",
       "10       0.0261                        9.0\n",
       "11       0.0003                       16.0\n",
       "12       0.0067                       11.0\n",
       "13       0.0014                       14.0\n",
       "14       0.0002                       25.0\n",
       "15       0.0039                       12.0\n",
       "16       0.0039                        NaN\n",
       "17       0.0002                       36.0\n",
       "18       0.0020                       13.0\n",
       "19       0.0002                       63.0\n",
       "20       0.0002                       19.0\n",
       "21       0.0002                       21.0\n",
       "22       0.0005                       22.0\n",
       "23       0.0003                       32.0\n",
       "24       0.0002                       90.0\n",
       "25       0.0005                       20.0\n",
       "26       0.0002                       43.0\n",
       "27       0.0002                       37.0\n",
       "28       0.0002                       17.0\n",
       "29       0.0005                       15.0\n",
       "30       0.0002                       34.0\n",
       "31       0.0003                       30.0\n",
       "32       0.0002                       24.0\n",
       "33       0.0002                       50.0\n",
       "34       0.0002                       78.0\n",
       "35       0.0002                       27.0\n",
       "36       0.0002                       41.0"
      ]
     },
     "execution_count": 9,
     "metadata": {},
     "output_type": "execute_result"
    }
   ],
   "source": [
    "query_proportion_A =\"\"\"\n",
    "SELECT count(*) / (select COUNT(*) from ventes WHERE ID_Bien LIKE 'A%')* 100 as Proportions, Nombre_pieces_principales\n",
    "FROM biens_1\n",
    "WHERE Type_local LIKE 'Appartement'\n",
    "GROUP BY Nombre_pieces_principales\n",
    "\"\"\"\n",
    "\n",
    "df_proportion_A = pd.read_sql(query_proportion_A, conn)\n",
    "df_proportion_A"
   ]
  },
  {
   "cell_type": "markdown",
   "id": "7ff0fcc3-4e81-41df-a717-b3b393619dea",
   "metadata": {},
   "source": [
    "5/ Les 10 départements où il y a eu le plus de ventes immobilières. "
   ]
  },
  {
   "cell_type": "code",
   "execution_count": 11,
   "id": "1197d611-1f8d-48c7-b1e3-07da41b95925",
   "metadata": {},
   "outputs": [
    {
     "name": "stderr",
     "output_type": "stream",
     "text": [
      "C:\\Users\\Utilisateur\\AppData\\Local\\Temp\\ipykernel_14020\\3389664718.py:10: UserWarning: pandas only supports SQLAlchemy connectable (engine/connection) or database string URI or sqlite3 DBAPI2 connection. Other DBAPI2 objects are not tested. Please consider using SQLAlchemy.\n",
      "  df_top10 = pd.read_sql(query_top10, conn)\n"
     ]
    },
    {
     "data": {
      "text/html": [
       "<div>\n",
       "<style scoped>\n",
       "    .dataframe tbody tr th:only-of-type {\n",
       "        vertical-align: middle;\n",
       "    }\n",
       "\n",
       "    .dataframe tbody tr th {\n",
       "        vertical-align: top;\n",
       "    }\n",
       "\n",
       "    .dataframe thead th {\n",
       "        text-align: right;\n",
       "    }\n",
       "</style>\n",
       "<table border=\"1\" class=\"dataframe\">\n",
       "  <thead>\n",
       "    <tr style=\"text-align: right;\">\n",
       "      <th></th>\n",
       "      <th>biens_vendus</th>\n",
       "      <th>Département</th>\n",
       "    </tr>\n",
       "  </thead>\n",
       "  <tbody>\n",
       "    <tr>\n",
       "      <th>0</th>\n",
       "      <td>50645</td>\n",
       "      <td>Nord</td>\n",
       "    </tr>\n",
       "    <tr>\n",
       "      <th>1</th>\n",
       "      <td>48071</td>\n",
       "      <td>Paris</td>\n",
       "    </tr>\n",
       "    <tr>\n",
       "      <th>2</th>\n",
       "      <td>43911</td>\n",
       "      <td>Bouches-du-Rhône</td>\n",
       "    </tr>\n",
       "    <tr>\n",
       "      <th>3</th>\n",
       "      <td>41670</td>\n",
       "      <td>Var</td>\n",
       "    </tr>\n",
       "    <tr>\n",
       "      <th>4</th>\n",
       "      <td>40215</td>\n",
       "      <td>Alpes-Maritimes</td>\n",
       "    </tr>\n",
       "    <tr>\n",
       "      <th>5</th>\n",
       "      <td>39022</td>\n",
       "      <td>Rhône</td>\n",
       "    </tr>\n",
       "    <tr>\n",
       "      <th>6</th>\n",
       "      <td>38380</td>\n",
       "      <td>Gironde</td>\n",
       "    </tr>\n",
       "    <tr>\n",
       "      <th>7</th>\n",
       "      <td>34456</td>\n",
       "      <td>Hérault</td>\n",
       "    </tr>\n",
       "    <tr>\n",
       "      <th>8</th>\n",
       "      <td>31419</td>\n",
       "      <td>Loire-Atlantique</td>\n",
       "    </tr>\n",
       "    <tr>\n",
       "      <th>9</th>\n",
       "      <td>31033</td>\n",
       "      <td>Haute-Garonne</td>\n",
       "    </tr>\n",
       "  </tbody>\n",
       "</table>\n",
       "</div>"
      ],
      "text/plain": [
       "   biens_vendus       Département\n",
       "0         50645              Nord\n",
       "1         48071             Paris\n",
       "2         43911  Bouches-du-Rhône\n",
       "3         41670               Var\n",
       "4         40215   Alpes-Maritimes\n",
       "5         39022             Rhône\n",
       "6         38380           Gironde\n",
       "7         34456           Hérault\n",
       "8         31419  Loire-Atlantique\n",
       "9         31033     Haute-Garonne"
      ]
     },
     "execution_count": 11,
     "metadata": {},
     "output_type": "execute_result"
    }
   ],
   "source": [
    "query_top10 =\"\"\"\n",
    "SELECT count(*) as biens_vendus, Département\n",
    "FROM localisations_1\n",
    "LEFT JOIN biens_1 ON localisations_1.ID_Bien = biens_1.ID_Bien\n",
    "GROUP BY Département\n",
    "ORDER BY Biens_vendus DESC\n",
    "LIMIT 10\n",
    "\"\"\"\n",
    "\n",
    "df_top10 = pd.read_sql(query_top10, conn)\n",
    "df_top10"
   ]
  },
  {
   "cell_type": "markdown",
   "id": "dc0036b3-8724-4b94-ae5b-9e7b24ee4b37",
   "metadata": {},
   "source": [
    "6/ Les 10 départements où il y en a eu le moins"
   ]
  },
  {
   "cell_type": "code",
   "execution_count": 12,
   "id": "13fb49f4-1d0e-4156-9361-45eee8d2c2ca",
   "metadata": {},
   "outputs": [
    {
     "name": "stderr",
     "output_type": "stream",
     "text": [
      "C:\\Users\\Utilisateur\\AppData\\Local\\Temp\\ipykernel_14020\\4261937017.py:10: UserWarning: pandas only supports SQLAlchemy connectable (engine/connection) or database string URI or sqlite3 DBAPI2 connection. Other DBAPI2 objects are not tested. Please consider using SQLAlchemy.\n",
      "  df_pire10 = pd.read_sql(query_pire10, conn)\n"
     ]
    },
    {
     "data": {
      "text/html": [
       "<div>\n",
       "<style scoped>\n",
       "    .dataframe tbody tr th:only-of-type {\n",
       "        vertical-align: middle;\n",
       "    }\n",
       "\n",
       "    .dataframe tbody tr th {\n",
       "        vertical-align: top;\n",
       "    }\n",
       "\n",
       "    .dataframe thead th {\n",
       "        text-align: right;\n",
       "    }\n",
       "</style>\n",
       "<table border=\"1\" class=\"dataframe\">\n",
       "  <thead>\n",
       "    <tr style=\"text-align: right;\">\n",
       "      <th></th>\n",
       "      <th>Biens_vendus</th>\n",
       "      <th>Département</th>\n",
       "    </tr>\n",
       "  </thead>\n",
       "  <tbody>\n",
       "    <tr>\n",
       "      <th>0</th>\n",
       "      <td>1748</td>\n",
       "      <td>Lozère</td>\n",
       "    </tr>\n",
       "    <tr>\n",
       "      <th>1</th>\n",
       "      <td>1962</td>\n",
       "      <td>Guyane</td>\n",
       "    </tr>\n",
       "    <tr>\n",
       "      <th>2</th>\n",
       "      <td>2841</td>\n",
       "      <td>Territoire de Belfort</td>\n",
       "    </tr>\n",
       "    <tr>\n",
       "      <th>3</th>\n",
       "      <td>3421</td>\n",
       "      <td>Martinique</td>\n",
       "    </tr>\n",
       "    <tr>\n",
       "      <th>4</th>\n",
       "      <td>3452</td>\n",
       "      <td>Haute-Corse</td>\n",
       "    </tr>\n",
       "    <tr>\n",
       "      <th>5</th>\n",
       "      <td>3639</td>\n",
       "      <td>Corse-du-Sud</td>\n",
       "    </tr>\n",
       "    <tr>\n",
       "      <th>6</th>\n",
       "      <td>3693</td>\n",
       "      <td>Cantal</td>\n",
       "    </tr>\n",
       "    <tr>\n",
       "      <th>7</th>\n",
       "      <td>3709</td>\n",
       "      <td>Creuse</td>\n",
       "    </tr>\n",
       "    <tr>\n",
       "      <th>8</th>\n",
       "      <td>3763</td>\n",
       "      <td>Guadeloupe</td>\n",
       "    </tr>\n",
       "    <tr>\n",
       "      <th>9</th>\n",
       "      <td>3811</td>\n",
       "      <td>Haute-Marne</td>\n",
       "    </tr>\n",
       "  </tbody>\n",
       "</table>\n",
       "</div>"
      ],
      "text/plain": [
       "   Biens_vendus            Département\n",
       "0          1748                 Lozère\n",
       "1          1962                 Guyane\n",
       "2          2841  Territoire de Belfort\n",
       "3          3421             Martinique\n",
       "4          3452            Haute-Corse\n",
       "5          3639           Corse-du-Sud\n",
       "6          3693                 Cantal\n",
       "7          3709                 Creuse\n",
       "8          3763             Guadeloupe\n",
       "9          3811            Haute-Marne"
      ]
     },
     "execution_count": 12,
     "metadata": {},
     "output_type": "execute_result"
    }
   ],
   "source": [
    "query_pire10 =\"\"\"\n",
    "SELECT count(*) as Biens_vendus, Département\n",
    "FROM localisations_1\n",
    "LEFT JOIN biens_1 ON localisations_1.ID_Bien = biens_1.ID_Bien\n",
    "GROUP BY Département\n",
    "ORDER BY Biens_vendus ASC\n",
    "LIMIT 10\n",
    "\"\"\"\n",
    "\n",
    "df_pire10 = pd.read_sql(query_pire10, conn)\n",
    "df_pire10"
   ]
  },
  {
   "cell_type": "markdown",
   "id": "542efc2e-b985-4410-84e7-cc0dc4524b23",
   "metadata": {},
   "source": [
    "7/ Prix moyen du mètre carré en IDF"
   ]
  },
  {
   "cell_type": "code",
   "execution_count": 13,
   "id": "6d82219e-f8f1-4ed4-8c4d-2b29cdcb117f",
   "metadata": {},
   "outputs": [
    {
     "name": "stderr",
     "output_type": "stream",
     "text": [
      "C:\\Users\\Utilisateur\\AppData\\Local\\Temp\\ipykernel_14020\\791904620.py:11: UserWarning: pandas only supports SQLAlchemy connectable (engine/connection) or database string URI or sqlite3 DBAPI2 connection. Other DBAPI2 objects are not tested. Please consider using SQLAlchemy.\n",
      "  df_prixmoyen = pd.read_sql(query_prixmoyen, conn)\n"
     ]
    },
    {
     "data": {
      "text/html": [
       "<div>\n",
       "<style scoped>\n",
       "    .dataframe tbody tr th:only-of-type {\n",
       "        vertical-align: middle;\n",
       "    }\n",
       "\n",
       "    .dataframe tbody tr th {\n",
       "        vertical-align: top;\n",
       "    }\n",
       "\n",
       "    .dataframe thead th {\n",
       "        text-align: right;\n",
       "    }\n",
       "</style>\n",
       "<table border=\"1\" class=\"dataframe\">\n",
       "  <thead>\n",
       "    <tr style=\"text-align: right;\">\n",
       "      <th></th>\n",
       "      <th>prix_moyen</th>\n",
       "    </tr>\n",
       "  </thead>\n",
       "  <tbody>\n",
       "    <tr>\n",
       "      <th>0</th>\n",
       "      <td>4407.342152</td>\n",
       "    </tr>\n",
       "  </tbody>\n",
       "</table>\n",
       "</div>"
      ],
      "text/plain": [
       "    prix_moyen\n",
       "0  4407.342152"
      ]
     },
     "execution_count": 13,
     "metadata": {},
     "output_type": "execute_result"
    }
   ],
   "source": [
    "query_prixmoyen = \"\"\"\n",
    "SELECT SUM(Valeur_fonciere) / SUM(Surface_terrain) as prix_moyen\n",
    "FROM biens_1\n",
    "JOIN localisations_1 \n",
    "ON biens_1.ID_Bien = localisations_1.ID_Bien\n",
    "JOIN ventes\n",
    "ON localisations_1.ID_Bien = ventes.ID_Bien\n",
    "WHERE Regions LIKE '%Île-de-France%';\n",
    "\"\"\"\n",
    "\n",
    "df_prixmoyen = pd.read_sql(query_prixmoyen, conn)\n",
    "df_prixmoyen"
   ]
  },
  {
   "cell_type": "markdown",
   "id": "cc0ee30e-0069-41b3-a44a-58da57530494",
   "metadata": {},
   "source": [
    "8/ Liste des 10 appartements les plus chers avec le département et le nombre de mètres carrés."
   ]
  },
  {
   "cell_type": "code",
   "execution_count": 14,
   "id": "0f913733-67c7-46ee-b6d4-5b17bf83efec",
   "metadata": {},
   "outputs": [
    {
     "name": "stderr",
     "output_type": "stream",
     "text": [
      "C:\\Users\\Utilisateur\\AppData\\Local\\Temp\\ipykernel_14020\\138947326.py:12: UserWarning: pandas only supports SQLAlchemy connectable (engine/connection) or database string URI or sqlite3 DBAPI2 connection. Other DBAPI2 objects are not tested. Please consider using SQLAlchemy.\n",
      "  df_prix10 = pd.read_sql(query_prix10, conn)\n"
     ]
    },
    {
     "data": {
      "text/html": [
       "<div>\n",
       "<style scoped>\n",
       "    .dataframe tbody tr th:only-of-type {\n",
       "        vertical-align: middle;\n",
       "    }\n",
       "\n",
       "    .dataframe tbody tr th {\n",
       "        vertical-align: top;\n",
       "    }\n",
       "\n",
       "    .dataframe thead th {\n",
       "        text-align: right;\n",
       "    }\n",
       "</style>\n",
       "<table border=\"1\" class=\"dataframe\">\n",
       "  <thead>\n",
       "    <tr style=\"text-align: right;\">\n",
       "      <th></th>\n",
       "      <th>ID_Bien</th>\n",
       "      <th>Type_local</th>\n",
       "      <th>Surface_reelle_batiment</th>\n",
       "      <th>Nombre_pieces_principales</th>\n",
       "      <th>Surface_terrain</th>\n",
       "      <th>Nombre_lots</th>\n",
       "      <th>ID_Bienisation</th>\n",
       "      <th>Adresse</th>\n",
       "      <th>Code_postal</th>\n",
       "      <th>Commune</th>\n",
       "      <th>Département</th>\n",
       "      <th>Regions</th>\n",
       "      <th>ID_Bien</th>\n",
       "      <th>Transaction_unique</th>\n",
       "      <th>Type_vente</th>\n",
       "      <th>ID_Bien</th>\n",
       "      <th>Date</th>\n",
       "      <th>Valeur_fonciere</th>\n",
       "    </tr>\n",
       "  </thead>\n",
       "  <tbody>\n",
       "    <tr>\n",
       "      <th>0</th>\n",
       "      <td>A_472305</td>\n",
       "      <td>Appartement</td>\n",
       "      <td>65.0</td>\n",
       "      <td>3.0</td>\n",
       "      <td>772.0</td>\n",
       "      <td>0</td>\n",
       "      <td>1235933</td>\n",
       "      <td>586.0 AV VICTOR HUGO</td>\n",
       "      <td>83061</td>\n",
       "      <td>FREJUS</td>\n",
       "      <td>Var</td>\n",
       "      <td>Provence-Alpes-Côte d'Azur</td>\n",
       "      <td>A_472305</td>\n",
       "      <td>1235933</td>\n",
       "      <td>Vente</td>\n",
       "      <td>A_472305</td>\n",
       "      <td>02/03/2022</td>\n",
       "      <td>999999,00</td>\n",
       "    </tr>\n",
       "    <tr>\n",
       "      <th>1</th>\n",
       "      <td>A_472306</td>\n",
       "      <td>Appartement</td>\n",
       "      <td>80.0</td>\n",
       "      <td>4.0</td>\n",
       "      <td>772.0</td>\n",
       "      <td>0</td>\n",
       "      <td>1235934</td>\n",
       "      <td>586.0 AV VICTOR HUGO</td>\n",
       "      <td>83061</td>\n",
       "      <td>FREJUS</td>\n",
       "      <td>Var</td>\n",
       "      <td>Provence-Alpes-Côte d'Azur</td>\n",
       "      <td>A_472306</td>\n",
       "      <td>1235934</td>\n",
       "      <td>Vente</td>\n",
       "      <td>A_472306</td>\n",
       "      <td>02/03/2022</td>\n",
       "      <td>999999,00</td>\n",
       "    </tr>\n",
       "    <tr>\n",
       "      <th>2</th>\n",
       "      <td>A_583002</td>\n",
       "      <td>Appartement</td>\n",
       "      <td>78.0</td>\n",
       "      <td>5.0</td>\n",
       "      <td>3244.0</td>\n",
       "      <td>0</td>\n",
       "      <td>1465799</td>\n",
       "      <td>1.0 RUE DES TISSERINS</td>\n",
       "      <td>974016</td>\n",
       "      <td>SAINT PIERRE</td>\n",
       "      <td>La Réunion</td>\n",
       "      <td>La Réunion</td>\n",
       "      <td>A_583002</td>\n",
       "      <td>1465799</td>\n",
       "      <td>Vente</td>\n",
       "      <td>A_583002</td>\n",
       "      <td>29/12/2022</td>\n",
       "      <td>999990,25</td>\n",
       "    </tr>\n",
       "    <tr>\n",
       "      <th>3</th>\n",
       "      <td>A_582997</td>\n",
       "      <td>Appartement</td>\n",
       "      <td>28.0</td>\n",
       "      <td>1.0</td>\n",
       "      <td>3244.0</td>\n",
       "      <td>0</td>\n",
       "      <td>1465793</td>\n",
       "      <td>1.0 RUE DES TISSERINS</td>\n",
       "      <td>974016</td>\n",
       "      <td>SAINT PIERRE</td>\n",
       "      <td>La Réunion</td>\n",
       "      <td>La Réunion</td>\n",
       "      <td>A_582997</td>\n",
       "      <td>1465793</td>\n",
       "      <td>Vente</td>\n",
       "      <td>A_582997</td>\n",
       "      <td>29/12/2022</td>\n",
       "      <td>999990,25</td>\n",
       "    </tr>\n",
       "    <tr>\n",
       "      <th>4</th>\n",
       "      <td>A_583003</td>\n",
       "      <td>Appartement</td>\n",
       "      <td>62.0</td>\n",
       "      <td>3.0</td>\n",
       "      <td>3244.0</td>\n",
       "      <td>0</td>\n",
       "      <td>1465801</td>\n",
       "      <td>1.0 RUE DES TISSERINS</td>\n",
       "      <td>974016</td>\n",
       "      <td>SAINT PIERRE</td>\n",
       "      <td>La Réunion</td>\n",
       "      <td>La Réunion</td>\n",
       "      <td>A_583003</td>\n",
       "      <td>1465801</td>\n",
       "      <td>Vente</td>\n",
       "      <td>A_583003</td>\n",
       "      <td>29/12/2022</td>\n",
       "      <td>999990,25</td>\n",
       "    </tr>\n",
       "    <tr>\n",
       "      <th>5</th>\n",
       "      <td>A_583001</td>\n",
       "      <td>Appartement</td>\n",
       "      <td>29.0</td>\n",
       "      <td>1.0</td>\n",
       "      <td>3244.0</td>\n",
       "      <td>0</td>\n",
       "      <td>1465798</td>\n",
       "      <td>1.0 RUE DES TISSERINS</td>\n",
       "      <td>974016</td>\n",
       "      <td>SAINT PIERRE</td>\n",
       "      <td>La Réunion</td>\n",
       "      <td>La Réunion</td>\n",
       "      <td>A_583001</td>\n",
       "      <td>1465798</td>\n",
       "      <td>Vente</td>\n",
       "      <td>A_583001</td>\n",
       "      <td>29/12/2022</td>\n",
       "      <td>999990,25</td>\n",
       "    </tr>\n",
       "    <tr>\n",
       "      <th>6</th>\n",
       "      <td>A_582995</td>\n",
       "      <td>Appartement</td>\n",
       "      <td>43.0</td>\n",
       "      <td>2.0</td>\n",
       "      <td>3244.0</td>\n",
       "      <td>0</td>\n",
       "      <td>1465791</td>\n",
       "      <td>1.0 RUE DES TISSERINS</td>\n",
       "      <td>974016</td>\n",
       "      <td>SAINT PIERRE</td>\n",
       "      <td>La Réunion</td>\n",
       "      <td>La Réunion</td>\n",
       "      <td>A_582995</td>\n",
       "      <td>1465791</td>\n",
       "      <td>Vente</td>\n",
       "      <td>A_582995</td>\n",
       "      <td>29/12/2022</td>\n",
       "      <td>999990,25</td>\n",
       "    </tr>\n",
       "    <tr>\n",
       "      <th>7</th>\n",
       "      <td>A_582998</td>\n",
       "      <td>Appartement</td>\n",
       "      <td>71.0</td>\n",
       "      <td>4.0</td>\n",
       "      <td>3244.0</td>\n",
       "      <td>0</td>\n",
       "      <td>1465794</td>\n",
       "      <td>1.0 RUE DES TISSERINS</td>\n",
       "      <td>974016</td>\n",
       "      <td>SAINT PIERRE</td>\n",
       "      <td>La Réunion</td>\n",
       "      <td>La Réunion</td>\n",
       "      <td>A_582998</td>\n",
       "      <td>1465794</td>\n",
       "      <td>Vente</td>\n",
       "      <td>A_582998</td>\n",
       "      <td>29/12/2022</td>\n",
       "      <td>999990,25</td>\n",
       "    </tr>\n",
       "    <tr>\n",
       "      <th>8</th>\n",
       "      <td>A_582994</td>\n",
       "      <td>Appartement</td>\n",
       "      <td>56.0</td>\n",
       "      <td>3.0</td>\n",
       "      <td>3244.0</td>\n",
       "      <td>0</td>\n",
       "      <td>1465789</td>\n",
       "      <td>1.0 RUE DES TISSERINS</td>\n",
       "      <td>974016</td>\n",
       "      <td>SAINT PIERRE</td>\n",
       "      <td>La Réunion</td>\n",
       "      <td>La Réunion</td>\n",
       "      <td>A_582994</td>\n",
       "      <td>1465789</td>\n",
       "      <td>Vente</td>\n",
       "      <td>A_582994</td>\n",
       "      <td>29/12/2022</td>\n",
       "      <td>999990,25</td>\n",
       "    </tr>\n",
       "    <tr>\n",
       "      <th>9</th>\n",
       "      <td>A_582996</td>\n",
       "      <td>Appartement</td>\n",
       "      <td>44.0</td>\n",
       "      <td>2.0</td>\n",
       "      <td>3244.0</td>\n",
       "      <td>0</td>\n",
       "      <td>1465792</td>\n",
       "      <td>1.0 RUE DES TISSERINS</td>\n",
       "      <td>974016</td>\n",
       "      <td>SAINT PIERRE</td>\n",
       "      <td>La Réunion</td>\n",
       "      <td>La Réunion</td>\n",
       "      <td>A_582996</td>\n",
       "      <td>1465792</td>\n",
       "      <td>Vente</td>\n",
       "      <td>A_582996</td>\n",
       "      <td>29/12/2022</td>\n",
       "      <td>999990,25</td>\n",
       "    </tr>\n",
       "  </tbody>\n",
       "</table>\n",
       "</div>"
      ],
      "text/plain": [
       "    ID_Bien   Type_local  Surface_reelle_batiment  Nombre_pieces_principales  \\\n",
       "0  A_472305  Appartement                     65.0                        3.0   \n",
       "1  A_472306  Appartement                     80.0                        4.0   \n",
       "2  A_583002  Appartement                     78.0                        5.0   \n",
       "3  A_582997  Appartement                     28.0                        1.0   \n",
       "4  A_583003  Appartement                     62.0                        3.0   \n",
       "5  A_583001  Appartement                     29.0                        1.0   \n",
       "6  A_582995  Appartement                     43.0                        2.0   \n",
       "7  A_582998  Appartement                     71.0                        4.0   \n",
       "8  A_582994  Appartement                     56.0                        3.0   \n",
       "9  A_582996  Appartement                     44.0                        2.0   \n",
       "\n",
       "   Surface_terrain  Nombre_lots  ID_Bienisation                Adresse  \\\n",
       "0            772.0            0         1235933   586.0 AV VICTOR HUGO   \n",
       "1            772.0            0         1235934   586.0 AV VICTOR HUGO   \n",
       "2           3244.0            0         1465799  1.0 RUE DES TISSERINS   \n",
       "3           3244.0            0         1465793  1.0 RUE DES TISSERINS   \n",
       "4           3244.0            0         1465801  1.0 RUE DES TISSERINS   \n",
       "5           3244.0            0         1465798  1.0 RUE DES TISSERINS   \n",
       "6           3244.0            0         1465791  1.0 RUE DES TISSERINS   \n",
       "7           3244.0            0         1465794  1.0 RUE DES TISSERINS   \n",
       "8           3244.0            0         1465789  1.0 RUE DES TISSERINS   \n",
       "9           3244.0            0         1465792  1.0 RUE DES TISSERINS   \n",
       "\n",
       "  Code_postal       Commune Département                     Regions   ID_Bien  \\\n",
       "0       83061        FREJUS         Var  Provence-Alpes-Côte d'Azur  A_472305   \n",
       "1       83061        FREJUS         Var  Provence-Alpes-Côte d'Azur  A_472306   \n",
       "2      974016  SAINT PIERRE  La Réunion                  La Réunion  A_583002   \n",
       "3      974016  SAINT PIERRE  La Réunion                  La Réunion  A_582997   \n",
       "4      974016  SAINT PIERRE  La Réunion                  La Réunion  A_583003   \n",
       "5      974016  SAINT PIERRE  La Réunion                  La Réunion  A_583001   \n",
       "6      974016  SAINT PIERRE  La Réunion                  La Réunion  A_582995   \n",
       "7      974016  SAINT PIERRE  La Réunion                  La Réunion  A_582998   \n",
       "8      974016  SAINT PIERRE  La Réunion                  La Réunion  A_582994   \n",
       "9      974016  SAINT PIERRE  La Réunion                  La Réunion  A_582996   \n",
       "\n",
       "   Transaction_unique Type_vente   ID_Bien        Date Valeur_fonciere  \n",
       "0             1235933      Vente  A_472305  02/03/2022       999999,00  \n",
       "1             1235934      Vente  A_472306  02/03/2022       999999,00  \n",
       "2             1465799      Vente  A_583002  29/12/2022       999990,25  \n",
       "3             1465793      Vente  A_582997  29/12/2022       999990,25  \n",
       "4             1465801      Vente  A_583003  29/12/2022       999990,25  \n",
       "5             1465798      Vente  A_583001  29/12/2022       999990,25  \n",
       "6             1465791      Vente  A_582995  29/12/2022       999990,25  \n",
       "7             1465794      Vente  A_582998  29/12/2022       999990,25  \n",
       "8             1465789      Vente  A_582994  29/12/2022       999990,25  \n",
       "9             1465792      Vente  A_582996  29/12/2022       999990,25  "
      ]
     },
     "execution_count": 14,
     "metadata": {},
     "output_type": "execute_result"
    }
   ],
   "source": [
    "query_prix10 = \"\"\"\n",
    "SELECT *\n",
    "FROM biens_1\n",
    "JOIN localisations_1 \n",
    "ON biens_1.ID_Bien = localisations_1.ID_Bien\n",
    "JOIN ventes\n",
    "ON localisations_1.ID_Bien = ventes.ID_Bien\n",
    "order by Valeur_fonciere desc\n",
    "LIMIT 10\n",
    "\"\"\"\n",
    "\n",
    "df_prix10 = pd.read_sql(query_prix10, conn)\n",
    "df_prix10"
   ]
  },
  {
   "cell_type": "markdown",
   "id": "dd3e1d99-cfad-40aa-978c-42a4b561c360",
   "metadata": {},
   "source": [
    "9/ Taux d’évolution du nombre de ventes entre le premier et le second trimestre de 2020."
   ]
  },
  {
   "cell_type": "code",
   "execution_count": 15,
   "id": "ba1bc71a-7de4-4a35-b83e-f939431094af",
   "metadata": {},
   "outputs": [
    {
     "name": "stderr",
     "output_type": "stream",
     "text": [
      "C:\\Users\\Utilisateur\\AppData\\Local\\Temp\\ipykernel_14020\\2803032387.py:21: UserWarning: pandas only supports SQLAlchemy connectable (engine/connection) or database string URI or sqlite3 DBAPI2 connection. Other DBAPI2 objects are not tested. Please consider using SQLAlchemy.\n",
      "  df_evolution = pd.read_sql(query_evolution, conn)\n"
     ]
    },
    {
     "data": {
      "text/html": [
       "<div>\n",
       "<style scoped>\n",
       "    .dataframe tbody tr th:only-of-type {\n",
       "        vertical-align: middle;\n",
       "    }\n",
       "\n",
       "    .dataframe tbody tr th {\n",
       "        vertical-align: top;\n",
       "    }\n",
       "\n",
       "    .dataframe thead th {\n",
       "        text-align: right;\n",
       "    }\n",
       "</style>\n",
       "<table border=\"1\" class=\"dataframe\">\n",
       "  <thead>\n",
       "    <tr style=\"text-align: right;\">\n",
       "      <th></th>\n",
       "      <th>Taux_evolution</th>\n",
       "    </tr>\n",
       "  </thead>\n",
       "  <tbody>\n",
       "    <tr>\n",
       "      <th>0</th>\n",
       "      <td>0.1315</td>\n",
       "    </tr>\n",
       "  </tbody>\n",
       "</table>\n",
       "</div>"
      ],
      "text/plain": [
       "   Taux_evolution\n",
       "0          0.1315"
      ]
     },
     "execution_count": 15,
     "metadata": {},
     "output_type": "execute_result"
    }
   ],
   "source": [
    "query_evolution = \"\"\"\n",
    "SELECT ((select Nombre_de_biens_vendus \n",
    "FROM(SELECT QUARTER(STR_TO_DATE(Date, '%d/%m/%Y')) AS Trimestre, COUNT(*) AS Nombre_de_biens_vendus\n",
    "FROM ventes\n",
    "GROUP BY Trimestre\n",
    "ORDER BY Trimestre) as new\n",
    "WHERE Trimestre LIKE '2')\n",
    "  - (select Nombre_de_biens_vendus \n",
    "FROM(SELECT QUARTER(STR_TO_DATE(Date, '%d/%m/%Y')) AS Trimestre, COUNT(*) AS Nombre_de_biens_vendus\n",
    "FROM ventes\n",
    "GROUP BY Trimestre\n",
    "ORDER BY Trimestre) as new\n",
    "WHERE Trimestre LIKE '1')) / (select Nombre_de_biens_vendus \n",
    "FROM(SELECT QUARTER(STR_TO_DATE(Date, '%d/%m/%Y')) AS Trimestre, COUNT(*) AS Nombre_de_biens_vendus\n",
    "FROM ventes\n",
    "GROUP BY Trimestre\n",
    "ORDER BY Trimestre) as new\n",
    "WHERE Trimestre LIKE '1') as Taux_evolution\n",
    "\"\"\"\n",
    "\n",
    "df_evolution = pd.read_sql(query_evolution, conn)\n",
    "df_evolution"
   ]
  },
  {
   "cell_type": "markdown",
   "id": "ff55bebb-bb28-4a2e-8fb5-d7c179faafbb",
   "metadata": {},
   "source": [
    "10/ Liste des communes où le nombre de ventes a augmenté d'au moins 20% entre le\n",
    "premier et le second trimestre de 2020"
   ]
  },
  {
   "cell_type": "code",
   "execution_count": null,
   "id": "c6bfbac9-eedc-48ab-85b7-c9d25014a05f",
   "metadata": {},
   "outputs": [],
   "source": []
  },
  {
   "cell_type": "markdown",
   "id": "2397721e-0b75-448b-a520-bc7a5c134782",
   "metadata": {},
   "source": [
    "Visualisation"
   ]
  },
  {
   "cell_type": "code",
   "execution_count": 54,
   "id": "d532e5be-9f46-4998-a8f3-465bd0e1b244",
   "metadata": {},
   "outputs": [
    {
     "name": "stderr",
     "output_type": "stream",
     "text": [
      "C:\\Users\\Utilisateur\\AppData\\Local\\Temp\\ipykernel_14020\\116902296.py:8: UserWarning:\n",
      "\n",
      "pandas only supports SQLAlchemy connectable (engine/connection) or database string URI or sqlite3 DBAPI2 connection. Other DBAPI2 objects are not tested. Please consider using SQLAlchemy.\n",
      "\n"
     ]
    },
    {
     "data": {
      "text/html": [
       "<div>\n",
       "<style scoped>\n",
       "    .dataframe tbody tr th:only-of-type {\n",
       "        vertical-align: middle;\n",
       "    }\n",
       "\n",
       "    .dataframe tbody tr th {\n",
       "        vertical-align: top;\n",
       "    }\n",
       "\n",
       "    .dataframe thead th {\n",
       "        text-align: right;\n",
       "    }\n",
       "</style>\n",
       "<table border=\"1\" class=\"dataframe\">\n",
       "  <thead>\n",
       "    <tr style=\"text-align: right;\">\n",
       "      <th></th>\n",
       "      <th>Trimestre</th>\n",
       "      <th>Valeur_fonciere_moyenne</th>\n",
       "    </tr>\n",
       "  </thead>\n",
       "  <tbody>\n",
       "    <tr>\n",
       "      <th>0</th>\n",
       "      <td>1</td>\n",
       "      <td>4.580369e+05</td>\n",
       "    </tr>\n",
       "    <tr>\n",
       "      <th>1</th>\n",
       "      <td>2</td>\n",
       "      <td>7.356653e+05</td>\n",
       "    </tr>\n",
       "    <tr>\n",
       "      <th>2</th>\n",
       "      <td>3</td>\n",
       "      <td>6.898698e+05</td>\n",
       "    </tr>\n",
       "    <tr>\n",
       "      <th>3</th>\n",
       "      <td>4</td>\n",
       "      <td>5.271525e+06</td>\n",
       "    </tr>\n",
       "  </tbody>\n",
       "</table>\n",
       "</div>"
      ],
      "text/plain": [
       "   Trimestre  Valeur_fonciere_moyenne\n",
       "0          1             4.580369e+05\n",
       "1          2             7.356653e+05\n",
       "2          3             6.898698e+05\n",
       "3          4             5.271525e+06"
      ]
     },
     "execution_count": 54,
     "metadata": {},
     "output_type": "execute_result"
    }
   ],
   "source": [
    "query_visu = \"\"\"\n",
    "SELECT QUARTER(STR_TO_DATE(Date, '%d/%m/%Y')) AS Trimestre, AVG(Valeur_fonciere) AS Valeur_fonciere_moyenne\n",
    "FROM ventes\n",
    "GROUP BY Trimestre\n",
    "ORDER BY Trimestre\n",
    "\"\"\"\n",
    "\n",
    "df_visu = pd.read_sql(query_visu, conn)\n",
    "df_visu"
   ]
  },
  {
   "cell_type": "code",
   "execution_count": 58,
   "id": "2506252c-787e-4257-a86b-f25505dd1fd4",
   "metadata": {},
   "outputs": [
    {
     "data": {
      "application/vnd.plotly.v1+json": {
       "config": {
        "plotlyServerURL": "https://plot.ly"
       },
       "data": [
        {
         "hovertemplate": "Trimestre=%{x}<br>Valeur_fonciere_moyenne=%{y}<extra></extra>",
         "legendgroup": "",
         "line": {
          "color": "#636efa",
          "dash": "solid"
         },
         "marker": {
          "symbol": "circle"
         },
         "mode": "lines",
         "name": "",
         "orientation": "v",
         "showlegend": false,
         "type": "scatter",
         "x": [
          1,
          2,
          3,
          4
         ],
         "xaxis": "x",
         "y": [
          458036.8716343107,
          735665.2987598764,
          689869.7666827033,
          5271525.21213628
         ],
         "yaxis": "y"
        }
       ],
       "layout": {
        "autosize": true,
        "legend": {
         "tracegroupgap": 0
        },
        "template": {
         "data": {
          "bar": [
           {
            "error_x": {
             "color": "#2a3f5f"
            },
            "error_y": {
             "color": "#2a3f5f"
            },
            "marker": {
             "line": {
              "color": "#E5ECF6",
              "width": 0.5
             },
             "pattern": {
              "fillmode": "overlay",
              "size": 10,
              "solidity": 0.2
             }
            },
            "type": "bar"
           }
          ],
          "barpolar": [
           {
            "marker": {
             "line": {
              "color": "#E5ECF6",
              "width": 0.5
             },
             "pattern": {
              "fillmode": "overlay",
              "size": 10,
              "solidity": 0.2
             }
            },
            "type": "barpolar"
           }
          ],
          "carpet": [
           {
            "aaxis": {
             "endlinecolor": "#2a3f5f",
             "gridcolor": "white",
             "linecolor": "white",
             "minorgridcolor": "white",
             "startlinecolor": "#2a3f5f"
            },
            "baxis": {
             "endlinecolor": "#2a3f5f",
             "gridcolor": "white",
             "linecolor": "white",
             "minorgridcolor": "white",
             "startlinecolor": "#2a3f5f"
            },
            "type": "carpet"
           }
          ],
          "choropleth": [
           {
            "colorbar": {
             "outlinewidth": 0,
             "ticks": ""
            },
            "type": "choropleth"
           }
          ],
          "contour": [
           {
            "colorbar": {
             "outlinewidth": 0,
             "ticks": ""
            },
            "colorscale": [
             [
              0,
              "#0d0887"
             ],
             [
              0.1111111111111111,
              "#46039f"
             ],
             [
              0.2222222222222222,
              "#7201a8"
             ],
             [
              0.3333333333333333,
              "#9c179e"
             ],
             [
              0.4444444444444444,
              "#bd3786"
             ],
             [
              0.5555555555555556,
              "#d8576b"
             ],
             [
              0.6666666666666666,
              "#ed7953"
             ],
             [
              0.7777777777777778,
              "#fb9f3a"
             ],
             [
              0.8888888888888888,
              "#fdca26"
             ],
             [
              1,
              "#f0f921"
             ]
            ],
            "type": "contour"
           }
          ],
          "contourcarpet": [
           {
            "colorbar": {
             "outlinewidth": 0,
             "ticks": ""
            },
            "type": "contourcarpet"
           }
          ],
          "heatmap": [
           {
            "colorbar": {
             "outlinewidth": 0,
             "ticks": ""
            },
            "colorscale": [
             [
              0,
              "#0d0887"
             ],
             [
              0.1111111111111111,
              "#46039f"
             ],
             [
              0.2222222222222222,
              "#7201a8"
             ],
             [
              0.3333333333333333,
              "#9c179e"
             ],
             [
              0.4444444444444444,
              "#bd3786"
             ],
             [
              0.5555555555555556,
              "#d8576b"
             ],
             [
              0.6666666666666666,
              "#ed7953"
             ],
             [
              0.7777777777777778,
              "#fb9f3a"
             ],
             [
              0.8888888888888888,
              "#fdca26"
             ],
             [
              1,
              "#f0f921"
             ]
            ],
            "type": "heatmap"
           }
          ],
          "heatmapgl": [
           {
            "colorbar": {
             "outlinewidth": 0,
             "ticks": ""
            },
            "colorscale": [
             [
              0,
              "#0d0887"
             ],
             [
              0.1111111111111111,
              "#46039f"
             ],
             [
              0.2222222222222222,
              "#7201a8"
             ],
             [
              0.3333333333333333,
              "#9c179e"
             ],
             [
              0.4444444444444444,
              "#bd3786"
             ],
             [
              0.5555555555555556,
              "#d8576b"
             ],
             [
              0.6666666666666666,
              "#ed7953"
             ],
             [
              0.7777777777777778,
              "#fb9f3a"
             ],
             [
              0.8888888888888888,
              "#fdca26"
             ],
             [
              1,
              "#f0f921"
             ]
            ],
            "type": "heatmapgl"
           }
          ],
          "histogram": [
           {
            "marker": {
             "pattern": {
              "fillmode": "overlay",
              "size": 10,
              "solidity": 0.2
             }
            },
            "type": "histogram"
           }
          ],
          "histogram2d": [
           {
            "colorbar": {
             "outlinewidth": 0,
             "ticks": ""
            },
            "colorscale": [
             [
              0,
              "#0d0887"
             ],
             [
              0.1111111111111111,
              "#46039f"
             ],
             [
              0.2222222222222222,
              "#7201a8"
             ],
             [
              0.3333333333333333,
              "#9c179e"
             ],
             [
              0.4444444444444444,
              "#bd3786"
             ],
             [
              0.5555555555555556,
              "#d8576b"
             ],
             [
              0.6666666666666666,
              "#ed7953"
             ],
             [
              0.7777777777777778,
              "#fb9f3a"
             ],
             [
              0.8888888888888888,
              "#fdca26"
             ],
             [
              1,
              "#f0f921"
             ]
            ],
            "type": "histogram2d"
           }
          ],
          "histogram2dcontour": [
           {
            "colorbar": {
             "outlinewidth": 0,
             "ticks": ""
            },
            "colorscale": [
             [
              0,
              "#0d0887"
             ],
             [
              0.1111111111111111,
              "#46039f"
             ],
             [
              0.2222222222222222,
              "#7201a8"
             ],
             [
              0.3333333333333333,
              "#9c179e"
             ],
             [
              0.4444444444444444,
              "#bd3786"
             ],
             [
              0.5555555555555556,
              "#d8576b"
             ],
             [
              0.6666666666666666,
              "#ed7953"
             ],
             [
              0.7777777777777778,
              "#fb9f3a"
             ],
             [
              0.8888888888888888,
              "#fdca26"
             ],
             [
              1,
              "#f0f921"
             ]
            ],
            "type": "histogram2dcontour"
           }
          ],
          "mesh3d": [
           {
            "colorbar": {
             "outlinewidth": 0,
             "ticks": ""
            },
            "type": "mesh3d"
           }
          ],
          "parcoords": [
           {
            "line": {
             "colorbar": {
              "outlinewidth": 0,
              "ticks": ""
             }
            },
            "type": "parcoords"
           }
          ],
          "pie": [
           {
            "automargin": true,
            "type": "pie"
           }
          ],
          "scatter": [
           {
            "fillpattern": {
             "fillmode": "overlay",
             "size": 10,
             "solidity": 0.2
            },
            "type": "scatter"
           }
          ],
          "scatter3d": [
           {
            "line": {
             "colorbar": {
              "outlinewidth": 0,
              "ticks": ""
             }
            },
            "marker": {
             "colorbar": {
              "outlinewidth": 0,
              "ticks": ""
             }
            },
            "type": "scatter3d"
           }
          ],
          "scattercarpet": [
           {
            "marker": {
             "colorbar": {
              "outlinewidth": 0,
              "ticks": ""
             }
            },
            "type": "scattercarpet"
           }
          ],
          "scattergeo": [
           {
            "marker": {
             "colorbar": {
              "outlinewidth": 0,
              "ticks": ""
             }
            },
            "type": "scattergeo"
           }
          ],
          "scattergl": [
           {
            "marker": {
             "colorbar": {
              "outlinewidth": 0,
              "ticks": ""
             }
            },
            "type": "scattergl"
           }
          ],
          "scattermapbox": [
           {
            "marker": {
             "colorbar": {
              "outlinewidth": 0,
              "ticks": ""
             }
            },
            "type": "scattermapbox"
           }
          ],
          "scatterpolar": [
           {
            "marker": {
             "colorbar": {
              "outlinewidth": 0,
              "ticks": ""
             }
            },
            "type": "scatterpolar"
           }
          ],
          "scatterpolargl": [
           {
            "marker": {
             "colorbar": {
              "outlinewidth": 0,
              "ticks": ""
             }
            },
            "type": "scatterpolargl"
           }
          ],
          "scatterternary": [
           {
            "marker": {
             "colorbar": {
              "outlinewidth": 0,
              "ticks": ""
             }
            },
            "type": "scatterternary"
           }
          ],
          "surface": [
           {
            "colorbar": {
             "outlinewidth": 0,
             "ticks": ""
            },
            "colorscale": [
             [
              0,
              "#0d0887"
             ],
             [
              0.1111111111111111,
              "#46039f"
             ],
             [
              0.2222222222222222,
              "#7201a8"
             ],
             [
              0.3333333333333333,
              "#9c179e"
             ],
             [
              0.4444444444444444,
              "#bd3786"
             ],
             [
              0.5555555555555556,
              "#d8576b"
             ],
             [
              0.6666666666666666,
              "#ed7953"
             ],
             [
              0.7777777777777778,
              "#fb9f3a"
             ],
             [
              0.8888888888888888,
              "#fdca26"
             ],
             [
              1,
              "#f0f921"
             ]
            ],
            "type": "surface"
           }
          ],
          "table": [
           {
            "cells": {
             "fill": {
              "color": "#EBF0F8"
             },
             "line": {
              "color": "white"
             }
            },
            "header": {
             "fill": {
              "color": "#C8D4E3"
             },
             "line": {
              "color": "white"
             }
            },
            "type": "table"
           }
          ]
         },
         "layout": {
          "annotationdefaults": {
           "arrowcolor": "#2a3f5f",
           "arrowhead": 0,
           "arrowwidth": 1
          },
          "autotypenumbers": "strict",
          "coloraxis": {
           "colorbar": {
            "outlinewidth": 0,
            "ticks": ""
           }
          },
          "colorscale": {
           "diverging": [
            [
             0,
             "#8e0152"
            ],
            [
             0.1,
             "#c51b7d"
            ],
            [
             0.2,
             "#de77ae"
            ],
            [
             0.3,
             "#f1b6da"
            ],
            [
             0.4,
             "#fde0ef"
            ],
            [
             0.5,
             "#f7f7f7"
            ],
            [
             0.6,
             "#e6f5d0"
            ],
            [
             0.7,
             "#b8e186"
            ],
            [
             0.8,
             "#7fbc41"
            ],
            [
             0.9,
             "#4d9221"
            ],
            [
             1,
             "#276419"
            ]
           ],
           "sequential": [
            [
             0,
             "#0d0887"
            ],
            [
             0.1111111111111111,
             "#46039f"
            ],
            [
             0.2222222222222222,
             "#7201a8"
            ],
            [
             0.3333333333333333,
             "#9c179e"
            ],
            [
             0.4444444444444444,
             "#bd3786"
            ],
            [
             0.5555555555555556,
             "#d8576b"
            ],
            [
             0.6666666666666666,
             "#ed7953"
            ],
            [
             0.7777777777777778,
             "#fb9f3a"
            ],
            [
             0.8888888888888888,
             "#fdca26"
            ],
            [
             1,
             "#f0f921"
            ]
           ],
           "sequentialminus": [
            [
             0,
             "#0d0887"
            ],
            [
             0.1111111111111111,
             "#46039f"
            ],
            [
             0.2222222222222222,
             "#7201a8"
            ],
            [
             0.3333333333333333,
             "#9c179e"
            ],
            [
             0.4444444444444444,
             "#bd3786"
            ],
            [
             0.5555555555555556,
             "#d8576b"
            ],
            [
             0.6666666666666666,
             "#ed7953"
            ],
            [
             0.7777777777777778,
             "#fb9f3a"
            ],
            [
             0.8888888888888888,
             "#fdca26"
            ],
            [
             1,
             "#f0f921"
            ]
           ]
          },
          "colorway": [
           "#636efa",
           "#EF553B",
           "#00cc96",
           "#ab63fa",
           "#FFA15A",
           "#19d3f3",
           "#FF6692",
           "#B6E880",
           "#FF97FF",
           "#FECB52"
          ],
          "font": {
           "color": "#2a3f5f"
          },
          "geo": {
           "bgcolor": "white",
           "lakecolor": "white",
           "landcolor": "#E5ECF6",
           "showlakes": true,
           "showland": true,
           "subunitcolor": "white"
          },
          "hoverlabel": {
           "align": "left"
          },
          "hovermode": "closest",
          "mapbox": {
           "style": "light"
          },
          "paper_bgcolor": "white",
          "plot_bgcolor": "#E5ECF6",
          "polar": {
           "angularaxis": {
            "gridcolor": "white",
            "linecolor": "white",
            "ticks": ""
           },
           "bgcolor": "#E5ECF6",
           "radialaxis": {
            "gridcolor": "white",
            "linecolor": "white",
            "ticks": ""
           }
          },
          "scene": {
           "xaxis": {
            "backgroundcolor": "#E5ECF6",
            "gridcolor": "white",
            "gridwidth": 2,
            "linecolor": "white",
            "showbackground": true,
            "ticks": "",
            "zerolinecolor": "white"
           },
           "yaxis": {
            "backgroundcolor": "#E5ECF6",
            "gridcolor": "white",
            "gridwidth": 2,
            "linecolor": "white",
            "showbackground": true,
            "ticks": "",
            "zerolinecolor": "white"
           },
           "zaxis": {
            "backgroundcolor": "#E5ECF6",
            "gridcolor": "white",
            "gridwidth": 2,
            "linecolor": "white",
            "showbackground": true,
            "ticks": "",
            "zerolinecolor": "white"
           }
          },
          "shapedefaults": {
           "line": {
            "color": "#2a3f5f"
           }
          },
          "ternary": {
           "aaxis": {
            "gridcolor": "white",
            "linecolor": "white",
            "ticks": ""
           },
           "baxis": {
            "gridcolor": "white",
            "linecolor": "white",
            "ticks": ""
           },
           "bgcolor": "#E5ECF6",
           "caxis": {
            "gridcolor": "white",
            "linecolor": "white",
            "ticks": ""
           }
          },
          "title": {
           "x": 0.05
          },
          "xaxis": {
           "automargin": true,
           "gridcolor": "white",
           "linecolor": "white",
           "ticks": "",
           "title": {
            "standoff": 15
           },
           "zerolinecolor": "white",
           "zerolinewidth": 2
          },
          "yaxis": {
           "automargin": true,
           "gridcolor": "white",
           "linecolor": "white",
           "ticks": "",
           "title": {
            "standoff": 15
           },
           "zerolinecolor": "white",
           "zerolinewidth": 2
          }
         }
        },
        "title": {
         "text": "Evolution de la valeur fonciere en moyenne parr trimestre"
        },
        "xaxis": {
         "anchor": "y",
         "autorange": true,
         "domain": [
          0,
          1
         ],
         "range": [
          1,
          4
         ],
         "title": {
          "text": "Trimestre"
         },
         "type": "linear"
        },
        "yaxis": {
         "anchor": "x",
         "autorange": true,
         "domain": [
          0,
          1
         ],
         "range": [
          190620.85271753464,
          5538941.231053056
         ],
         "title": {
          "text": "Valeur_fonciere_moyenne"
         },
         "type": "linear"
        }
       }
      },
      "image/png": "[encoded data removed]",
      "text/html": [
       "<div>                            <div id=\"6b34fa02-3fae-447f-b0c3-641bd79389f3\" class=\"plotly-graph-div\" style=\"height:525px; width:100%;\"></div>            <script type=\"text/javascript\">                require([\"plotly\"], function(Plotly) {                    window.PLOTLYENV=window.PLOTLYENV || {};                                    if (document.getElementById(\"6b34fa02-3fae-447f-b0c3-641bd79389f3\")) {                    Plotly.newPlot(                        \"6b34fa02-3fae-447f-b0c3-641bd79389f3\",                        [{\"hovertemplate\":\"Trimestre=%{x}<br>Valeur_fonciere_moyenne=%{y}<extra></extra>\",\"legendgroup\":\"\",\"line\":{\"color\":\"#636efa\",\"dash\":\"solid\"},\"marker\":{\"symbol\":\"circle\"},\"mode\":\"lines\",\"name\":\"\",\"orientation\":\"v\",\"showlegend\":false,\"x\":[1,2,3,4],\"xaxis\":\"x\",\"y\":[458036.8716343107,735665.2987598764,689869.7666827033,5271525.21213628],\"yaxis\":\"y\",\"type\":\"scatter\"}],                        {\"template\":{\"data\":{\"histogram2dcontour\":[{\"type\":\"histogram2dcontour\",\"colorbar\":{\"outlinewidth\":0,\"ticks\":\"\"},\"colorscale\":[[0.0,\"#0d0887\"],[0.1111111111111111,\"#46039f\"],[0.2222222222222222,\"#7201a8\"],[0.3333333333333333,\"#9c179e\"],[0.4444444444444444,\"#bd3786\"],[0.5555555555555556,\"#d8576b\"],[0.6666666666666666,\"#ed7953\"],[0.7777777777777778,\"#fb9f3a\"],[0.8888888888888888,\"#fdca26\"],[1.0,\"#f0f921\"]]}],\"choropleth\":[{\"type\":\"choropleth\",\"colorbar\":{\"outlinewidth\":0,\"ticks\":\"\"}}],\"histogram2d\":[{\"type\":\"histogram2d\",\"colorbar\":{\"outlinewidth\":0,\"ticks\":\"\"},\"colorscale\":[[0.0,\"#0d0887\"],[0.1111111111111111,\"#46039f\"],[0.2222222222222222,\"#7201a8\"],[0.3333333333333333,\"#9c179e\"],[0.4444444444444444,\"#bd3786\"],[0.5555555555555556,\"#d8576b\"],[0.6666666666666666,\"#ed7953\"],[0.7777777777777778,\"#fb9f3a\"],[0.8888888888888888,\"#fdca26\"],[1.0,\"#f0f921\"]]}],\"heatmap\":[{\"type\":\"heatmap\",\"colorbar\":{\"outlinewidth\":0,\"ticks\":\"\"},\"colorscale\":[[0.0,\"#0d0887\"],[0.1111111111111111,\"#46039f\"],[0.2222222222222222,\"#7201a8\"],[0.3333333333333333,\"#9c179e\"],[0.4444444444444444,\"#bd3786\"],[0.5555555555555556,\"#d8576b\"],[0.6666666666666666,\"#ed7953\"],[0.7777777777777778,\"#fb9f3a\"],[0.8888888888888888,\"#fdca26\"],[1.0,\"#f0f921\"]]}],\"heatmapgl\":[{\"type\":\"heatmapgl\",\"colorbar\":{\"outlinewidth\":0,\"ticks\":\"\"},\"colorscale\":[[0.0,\"#0d0887\"],[0.1111111111111111,\"#46039f\"],[0.2222222222222222,\"#7201a8\"],[0.3333333333333333,\"#9c179e\"],[0.4444444444444444,\"#bd3786\"],[0.5555555555555556,\"#d8576b\"],[0.6666666666666666,\"#ed7953\"],[0.7777777777777778,\"#fb9f3a\"],[0.8888888888888888,\"#fdca26\"],[1.0,\"#f0f921\"]]}],\"contourcarpet\":[{\"type\":\"contourcarpet\",\"colorbar\":{\"outlinewidth\":0,\"ticks\":\"\"}}],\"contour\":[{\"type\":\"contour\",\"colorbar\":{\"outlinewidth\":0,\"ticks\":\"\"},\"colorscale\":[[0.0,\"#0d0887\"],[0.1111111111111111,\"#46039f\"],[0.2222222222222222,\"#7201a8\"],[0.3333333333333333,\"#9c179e\"],[0.4444444444444444,\"#bd3786\"],[0.5555555555555556,\"#d8576b\"],[0.6666666666666666,\"#ed7953\"],[0.7777777777777778,\"#fb9f3a\"],[0.8888888888888888,\"#fdca26\"],[1.0,\"#f0f921\"]]}],\"surface\":[{\"type\":\"surface\",\"colorbar\":{\"outlinewidth\":0,\"ticks\":\"\"},\"colorscale\":[[0.0,\"#0d0887\"],[0.1111111111111111,\"#46039f\"],[0.2222222222222222,\"#7201a8\"],[0.3333333333333333,\"#9c179e\"],[0.4444444444444444,\"#bd3786\"],[0.5555555555555556,\"#d8576b\"],[0.6666666666666666,\"#ed7953\"],[0.7777777777777778,\"#fb9f3a\"],[0.8888888888888888,\"#fdca26\"],[1.0,\"#f0f921\"]]}],\"mesh3d\":[{\"type\":\"mesh3d\",\"colorbar\":{\"outlinewidth\":0,\"ticks\":\"\"}}],\"scatter\":[{\"fillpattern\":{\"fillmode\":\"overlay\",\"size\":10,\"solidity\":0.2},\"type\":\"scatter\"}],\"parcoords\":[{\"type\":\"parcoords\",\"line\":{\"colorbar\":{\"outlinewidth\":0,\"ticks\":\"\"}}}],\"scatterpolargl\":[{\"type\":\"scatterpolargl\",\"marker\":{\"colorbar\":{\"outlinewidth\":0,\"ticks\":\"\"}}}],\"bar\":[{\"error_x\":{\"color\":\"#2a3f5f\"},\"error_y\":{\"color\":\"#2a3f5f\"},\"marker\":{\"line\":{\"color\":\"#E5ECF6\",\"width\":0.5},\"pattern\":{\"fillmode\":\"overlay\",\"size\":10,\"solidity\":0.2}},\"type\":\"bar\"}],\"scattergeo\":[{\"type\":\"scattergeo\",\"marker\":{\"colorbar\":{\"outlinewidth\":0,\"ticks\":\"\"}}}],\"scatterpolar\":[{\"type\":\"scatterpolar\",\"marker\":{\"colorbar\":{\"outlinewidth\":0,\"ticks\":\"\"}}}],\"histogram\":[{\"marker\":{\"pattern\":{\"fillmode\":\"overlay\",\"size\":10,\"solidity\":0.2}},\"type\":\"histogram\"}],\"scattergl\":[{\"type\":\"scattergl\",\"marker\":{\"colorbar\":{\"outlinewidth\":0,\"ticks\":\"\"}}}],\"scatter3d\":[{\"type\":\"scatter3d\",\"line\":{\"colorbar\":{\"outlinewidth\":0,\"ticks\":\"\"}},\"marker\":{\"colorbar\":{\"outlinewidth\":0,\"ticks\":\"\"}}}],\"scattermapbox\":[{\"type\":\"scattermapbox\",\"marker\":{\"colorbar\":{\"outlinewidth\":0,\"ticks\":\"\"}}}],\"scatterternary\":[{\"type\":\"scatterternary\",\"marker\":{\"colorbar\":{\"outlinewidth\":0,\"ticks\":\"\"}}}],\"scattercarpet\":[{\"type\":\"scattercarpet\",\"marker\":{\"colorbar\":{\"outlinewidth\":0,\"ticks\":\"\"}}}],\"carpet\":[{\"aaxis\":{\"endlinecolor\":\"#2a3f5f\",\"gridcolor\":\"white\",\"linecolor\":\"white\",\"minorgridcolor\":\"white\",\"startlinecolor\":\"#2a3f5f\"},\"baxis\":{\"endlinecolor\":\"#2a3f5f\",\"gridcolor\":\"white\",\"linecolor\":\"white\",\"minorgridcolor\":\"white\",\"startlinecolor\":\"#2a3f5f\"},\"type\":\"carpet\"}],\"table\":[{\"cells\":{\"fill\":{\"color\":\"#EBF0F8\"},\"line\":{\"color\":\"white\"}},\"header\":{\"fill\":{\"color\":\"#C8D4E3\"},\"line\":{\"color\":\"white\"}},\"type\":\"table\"}],\"barpolar\":[{\"marker\":{\"line\":{\"color\":\"#E5ECF6\",\"width\":0.5},\"pattern\":{\"fillmode\":\"overlay\",\"size\":10,\"solidity\":0.2}},\"type\":\"barpolar\"}],\"pie\":[{\"automargin\":true,\"type\":\"pie\"}]},\"layout\":{\"autotypenumbers\":\"strict\",\"colorway\":[\"#636efa\",\"#EF553B\",\"#00cc96\",\"#ab63fa\",\"#FFA15A\",\"#19d3f3\",\"#FF6692\",\"#B6E880\",\"#FF97FF\",\"#FECB52\"],\"font\":{\"color\":\"#2a3f5f\"},\"hovermode\":\"closest\",\"hoverlabel\":{\"align\":\"left\"},\"paper_bgcolor\":\"white\",\"plot_bgcolor\":\"#E5ECF6\",\"polar\":{\"bgcolor\":\"#E5ECF6\",\"angularaxis\":{\"gridcolor\":\"white\",\"linecolor\":\"white\",\"ticks\":\"\"},\"radialaxis\":{\"gridcolor\":\"white\",\"linecolor\":\"white\",\"ticks\":\"\"}},\"ternary\":{\"bgcolor\":\"#E5ECF6\",\"aaxis\":{\"gridcolor\":\"white\",\"linecolor\":\"white\",\"ticks\":\"\"},\"baxis\":{\"gridcolor\":\"white\",\"linecolor\":\"white\",\"ticks\":\"\"},\"caxis\":{\"gridcolor\":\"white\",\"linecolor\":\"white\",\"ticks\":\"\"}},\"coloraxis\":{\"colorbar\":{\"outlinewidth\":0,\"ticks\":\"\"}},\"colorscale\":{\"sequential\":[[0.0,\"#0d0887\"],[0.1111111111111111,\"#46039f\"],[0.2222222222222222,\"#7201a8\"],[0.3333333333333333,\"#9c179e\"],[0.4444444444444444,\"#bd3786\"],[0.5555555555555556,\"#d8576b\"],[0.6666666666666666,\"#ed7953\"],[0.7777777777777778,\"#fb9f3a\"],[0.8888888888888888,\"#fdca26\"],[1.0,\"#f0f921\"]],\"sequentialminus\":[[0.0,\"#0d0887\"],[0.1111111111111111,\"#46039f\"],[0.2222222222222222,\"#7201a8\"],[0.3333333333333333,\"#9c179e\"],[0.4444444444444444,\"#bd3786\"],[0.5555555555555556,\"#d8576b\"],[0.6666666666666666,\"#ed7953\"],[0.7777777777777778,\"#fb9f3a\"],[0.8888888888888888,\"#fdca26\"],[1.0,\"#f0f921\"]],\"diverging\":[[0,\"#8e0152\"],[0.1,\"#c51b7d\"],[0.2,\"#de77ae\"],[0.3,\"#f1b6da\"],[0.4,\"#fde0ef\"],[0.5,\"#f7f7f7\"],[0.6,\"#e6f5d0\"],[0.7,\"#b8e186\"],[0.8,\"#7fbc41\"],[0.9,\"#4d9221\"],[1,\"#276419\"]]},\"xaxis\":{\"gridcolor\":\"white\",\"linecolor\":\"white\",\"ticks\":\"\",\"title\":{\"standoff\":15},\"zerolinecolor\":\"white\",\"automargin\":true,\"zerolinewidth\":2},\"yaxis\":{\"gridcolor\":\"white\",\"linecolor\":\"white\",\"ticks\":\"\",\"title\":{\"standoff\":15},\"zerolinecolor\":\"white\",\"automargin\":true,\"zerolinewidth\":2},\"scene\":{\"xaxis\":{\"backgroundcolor\":\"#E5ECF6\",\"gridcolor\":\"white\",\"linecolor\":\"white\",\"showbackground\":true,\"ticks\":\"\",\"zerolinecolor\":\"white\",\"gridwidth\":2},\"yaxis\":{\"backgroundcolor\":\"#E5ECF6\",\"gridcolor\":\"white\",\"linecolor\":\"white\",\"showbackground\":true,\"ticks\":\"\",\"zerolinecolor\":\"white\",\"gridwidth\":2},\"zaxis\":{\"backgroundcolor\":\"#E5ECF6\",\"gridcolor\":\"white\",\"linecolor\":\"white\",\"showbackground\":true,\"ticks\":\"\",\"zerolinecolor\":\"white\",\"gridwidth\":2}},\"shapedefaults\":{\"line\":{\"color\":\"#2a3f5f\"}},\"annotationdefaults\":{\"arrowcolor\":\"#2a3f5f\",\"arrowhead\":0,\"arrowwidth\":1},\"geo\":{\"bgcolor\":\"white\",\"landcolor\":\"#E5ECF6\",\"subunitcolor\":\"white\",\"showland\":true,\"showlakes\":true,\"lakecolor\":\"white\"},\"title\":{\"x\":0.05},\"mapbox\":{\"style\":\"light\"}}},\"xaxis\":{\"anchor\":\"y\",\"domain\":[0.0,1.0],\"title\":{\"text\":\"Trimestre\"}},\"yaxis\":{\"anchor\":\"x\",\"domain\":[0.0,1.0],\"title\":{\"text\":\"Valeur_fonciere_moyenne\"}},\"legend\":{\"tracegroupgap\":0},\"title\":{\"text\":\"Evolution de la valeur fonciere en moyenne parr trimestre\"}},                        {\"responsive\": true}                    ).then(function(){\n",
       "                            \n",
       "var gd = document.getElementById('6b34fa02-3fae-447f-b0c3-641bd79389f3');\n",
       "var x = new MutationObserver(function (mutations, observer) {{\n",
       "        var display = window.getComputedStyle(gd).display;\n",
       "        if (!display || display === 'none') {{\n",
       "            console.log([gd, 'removed!']);\n",
       "            Plotly.purge(gd);\n",
       "            observer.disconnect();\n",
       "        }}\n",
       "}});\n",
       "\n",
       "// Listen for the removal of the full notebook cells\n",
       "var notebookContainer = gd.closest('#notebook-container');\n",
       "if (notebookContainer) {{\n",
       "    x.observe(notebookContainer, {childList: true});\n",
       "}}\n",
       "\n",
       "// Listen for the clearing of the current output cell\n",
       "var outputEl = gd.closest('.output');\n",
       "if (outputEl) {{\n",
       "    x.observe(outputEl, {childList: true});\n",
       "}}\n",
       "\n",
       "                        })                };                });            </script>        </div>"
      ]
     },
     "metadata": {},
     "output_type": "display_data"
    }
   ],
   "source": [
    "fig = px.line(df_visu, x=\"Trimestre\", y=\"Valeur_fonciere_moyenne\", title='Evolution de la valeur fonciere en moyenne parr trimestre')\n",
    "fig.show()"
   ]
  }
 ],
 "metadata": {
  "kernelspec": {
   "display_name": "Python 3 (ipykernel)",
   "language": "python",
   "name": "python3"
  },
  "language_info": {
   "codemirror_mode": {
    "name": "ipython",
    "version": 3
   },
   "file_extension": ".py",
   "mimetype": "text/x-python",
   "name": "python",
   "nbconvert_exporter": "python",
   "pygments_lexer": "ipython3",
   "version": "3.11.7"
  },
  "toc": {
   "base_numbering": 1,
   "nav_menu": {},
   "number_sections": true,
   "sideBar": true,
   "skip_h1_title": false,
   "title_cell": "Table of Contents",
   "title_sidebar": "Contents",
   "toc_cell": false,
   "toc_position": {},
   "toc_section_display": true,
   "toc_window_display": false
  }
 },
 "nbformat": 4,
 "nbformat_minor": 5
}
